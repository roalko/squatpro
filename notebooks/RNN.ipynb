{
 "cells": [
  {
   "cell_type": "code",
   "execution_count": 1,
   "metadata": {
    "executionInfo": {
     "elapsed": 364,
     "status": "ok",
     "timestamp": 1614957007576,
     "user": {
      "displayName": "Robyn Korolnek",
      "photoUrl": "",
      "userId": "16134780550472158874"
     },
     "user_tz": 300
    },
    "id": "L5WKduY07yN0"
   },
   "outputs": [],
   "source": [
    "#TO DO\n",
    "\n",
    "# - Create correct directories in get_y\n",
    "# - Do I want to make the padding value 0 so i ignore all rows with 0??\n",
    "# why do I get loss nan??\n",
    "# I have nans in my X_train /X_test\n",
    "# should i use a different optimizer for my compiler?? maybe rmsprop"
   ]
  },
  {
   "cell_type": "code",
   "execution_count": 27,
   "metadata": {
    "executionInfo": {
     "elapsed": 2479,
     "status": "ok",
     "timestamp": 1614957009707,
     "user": {
      "displayName": "Robyn Korolnek",
      "photoUrl": "",
      "userId": "16134780550472158874"
     },
     "user_tz": 300
    },
    "id": "CIoNzRhOjOdk"
   },
   "outputs": [],
   "source": [
    "import pandas as pd\n",
    "import os\n",
    "import csv\n",
    "import numpy as np\n",
    "from tensorflow.keras import Sequential, layers\n",
    "from tensorflow.keras.callbacks import EarlyStopping\n",
    "from tensorflow.keras.preprocessing.sequence import pad_sequences"
   ]
  },
  {
   "cell_type": "code",
   "execution_count": 3,
   "metadata": {},
   "outputs": [
    {
     "name": "stdout",
     "output_type": "stream",
     "text": [
      "/Users/hogangardner/code/roalko/squatpro/notebooks\r\n"
     ]
    }
   ],
   "source": [
    "!pwd"
   ]
  },
  {
   "cell_type": "code",
   "execution_count": 28,
   "metadata": {
    "colab": {
     "base_uri": "https://localhost:8080/"
    },
    "executionInfo": {
     "elapsed": 2486,
     "status": "ok",
     "timestamp": 1614957009718,
     "user": {
      "displayName": "Robyn Korolnek",
      "photoUrl": "",
      "userId": "16134780550472158874"
     },
     "user_tz": 300
    },
    "id": "uXKbqtBAsdRf",
    "outputId": "f42e44de-0feb-4d14-de25-2f63155ccad1"
   },
   "outputs": [
    {
     "name": "stdout",
     "output_type": "stream",
     "text": [
      "Found 40 CSVs in ../raw_data/CSV_Features/Train/Bad Directory\n",
      "Found 40 CSVs in ../raw_data/CSV_Features/Train/Good Directory\n",
      "Number of csvs : 80\n",
      "Number of Labels : 80\n",
      "Found 10 CSVs in ../raw_data/CSV_Features/Test/Bad Directory\n",
      "Found 10 CSVs in ../raw_data/CSV_Features/Test/Good Directory\n",
      "Number of csvs : 20\n",
      "Number of Labels : 20\n"
     ]
    }
   ],
   "source": [
    "ROOT_DATA_DIR = '../raw_data/CSV_Features'\n",
    "DATA_SUB_DIRs = [\"Train\", \"Test\"]\n",
    "CLS_LIST = [\"Bad\", \"Good\"]\n",
    "\n",
    "def get_y(data_path, class_list):\n",
    "    \n",
    "    data_dict = {\"csv_paths\":[], \"csv_files\":[], \"labels\":[]}\n",
    "    \n",
    "    for i, clss in enumerate(class_list):\n",
    "        dir_path = os.path.join(data_path, clss)\n",
    "        list_csvs = [l for l in os.listdir(dir_path)]\n",
    "        print(f\"Found {len(list_csvs)} CSVs in {dir_path} Directory\")\n",
    "        data_dict[\"csv_files\"].extend(list_csvs)\n",
    "        data_dict[\"labels\"].extend([i for k in range(len(list_csvs))])\n",
    "        data_dict[\"csv_paths\"].extend([dir_path for _ in range(len(list_csvs))])\n",
    "    \n",
    "    total_csvs = len(data_dict[\"csv_files\"])\n",
    "    total_labels = len(data_dict[\"labels\"])\n",
    "    print(f\"Number of csvs : {total_csvs}\")\n",
    "    print(f\"Number of Labels : {total_labels}\")\n",
    "    return data_dict\n",
    "\n",
    "train_data = pd.DataFrame(get_y(data_path=os.path.join(ROOT_DATA_DIR, DATA_SUB_DIRs[0]),\n",
    "                               class_list=CLS_LIST))\n",
    "\n",
    "\n",
    "test_data = pd.DataFrame(get_y(data_path=os.path.join(ROOT_DATA_DIR, DATA_SUB_DIRs[1]),\n",
    "                               class_list=CLS_LIST)) "
   ]
  },
  {
   "cell_type": "code",
   "execution_count": 29,
   "metadata": {
    "colab": {
     "base_uri": "https://localhost:8080/",
     "height": 204
    },
    "executionInfo": {
     "elapsed": 2475,
     "status": "ok",
     "timestamp": 1614957009720,
     "user": {
      "displayName": "Robyn Korolnek",
      "photoUrl": "",
      "userId": "16134780550472158874"
     },
     "user_tz": 300
    },
    "id": "Xb3itu3ouZJs",
    "outputId": "c0449fe1-d2dd-463e-91f7-be8a3e82f0b9"
   },
   "outputs": [
    {
     "data": {
      "text/html": [
       "<div>\n",
       "<style scoped>\n",
       "    .dataframe tbody tr th:only-of-type {\n",
       "        vertical-align: middle;\n",
       "    }\n",
       "\n",
       "    .dataframe tbody tr th {\n",
       "        vertical-align: top;\n",
       "    }\n",
       "\n",
       "    .dataframe thead th {\n",
       "        text-align: right;\n",
       "    }\n",
       "</style>\n",
       "<table border=\"1\" class=\"dataframe\">\n",
       "  <thead>\n",
       "    <tr style=\"text-align: right;\">\n",
       "      <th></th>\n",
       "      <th>csv_paths</th>\n",
       "      <th>csv_files</th>\n",
       "      <th>labels</th>\n",
       "    </tr>\n",
       "  </thead>\n",
       "  <tbody>\n",
       "    <tr>\n",
       "      <th>0</th>\n",
       "      <td>../raw_data/CSV_Features/Train/Bad</td>\n",
       "      <td>68.csv</td>\n",
       "      <td>0</td>\n",
       "    </tr>\n",
       "    <tr>\n",
       "      <th>1</th>\n",
       "      <td>../raw_data/CSV_Features/Train/Bad</td>\n",
       "      <td>54.csv</td>\n",
       "      <td>0</td>\n",
       "    </tr>\n",
       "    <tr>\n",
       "      <th>2</th>\n",
       "      <td>../raw_data/CSV_Features/Train/Bad</td>\n",
       "      <td>41.csv</td>\n",
       "      <td>0</td>\n",
       "    </tr>\n",
       "    <tr>\n",
       "      <th>3</th>\n",
       "      <td>../raw_data/CSV_Features/Train/Bad</td>\n",
       "      <td>55.csv</td>\n",
       "      <td>0</td>\n",
       "    </tr>\n",
       "    <tr>\n",
       "      <th>4</th>\n",
       "      <td>../raw_data/CSV_Features/Train/Bad</td>\n",
       "      <td>69.csv</td>\n",
       "      <td>0</td>\n",
       "    </tr>\n",
       "  </tbody>\n",
       "</table>\n",
       "</div>"
      ],
      "text/plain": [
       "                            csv_paths csv_files  labels\n",
       "0  ../raw_data/CSV_Features/Train/Bad    68.csv       0\n",
       "1  ../raw_data/CSV_Features/Train/Bad    54.csv       0\n",
       "2  ../raw_data/CSV_Features/Train/Bad    41.csv       0\n",
       "3  ../raw_data/CSV_Features/Train/Bad    55.csv       0\n",
       "4  ../raw_data/CSV_Features/Train/Bad    69.csv       0"
      ]
     },
     "execution_count": 29,
     "metadata": {},
     "output_type": "execute_result"
    }
   ],
   "source": [
    "train_data.head()"
   ]
  },
  {
   "cell_type": "code",
   "execution_count": 30,
   "metadata": {
    "colab": {
     "base_uri": "https://localhost:8080/",
     "height": 35
    },
    "executionInfo": {
     "elapsed": 2469,
     "status": "ok",
     "timestamp": 1614957009721,
     "user": {
      "displayName": "Robyn Korolnek",
      "photoUrl": "",
      "userId": "16134780550472158874"
     },
     "user_tz": 300
    },
    "id": "tJv3QmUUARRF",
    "outputId": "e11ec929-3ed6-4aec-b125-1c16c1b7650b"
   },
   "outputs": [
    {
     "data": {
      "text/plain": [
       "'../raw_data/CSV_Features/Train/Bad'"
      ]
     },
     "execution_count": 30,
     "metadata": {},
     "output_type": "execute_result"
    }
   ],
   "source": [
    "train_data['csv_paths'][0]"
   ]
  },
  {
   "cell_type": "code",
   "execution_count": 31,
   "metadata": {
    "colab": {
     "base_uri": "https://localhost:8080/",
     "height": 204
    },
    "executionInfo": {
     "elapsed": 2618,
     "status": "ok",
     "timestamp": 1614957009879,
     "user": {
      "displayName": "Robyn Korolnek",
      "photoUrl": "",
      "userId": "16134780550472158874"
     },
     "user_tz": 300
    },
    "id": "m-8p3BJ6urbi",
    "outputId": "cd7bee25-fb6d-493c-c29f-9f33d22bf080"
   },
   "outputs": [
    {
     "data": {
      "text/html": [
       "<div>\n",
       "<style scoped>\n",
       "    .dataframe tbody tr th:only-of-type {\n",
       "        vertical-align: middle;\n",
       "    }\n",
       "\n",
       "    .dataframe tbody tr th {\n",
       "        vertical-align: top;\n",
       "    }\n",
       "\n",
       "    .dataframe thead th {\n",
       "        text-align: right;\n",
       "    }\n",
       "</style>\n",
       "<table border=\"1\" class=\"dataframe\">\n",
       "  <thead>\n",
       "    <tr style=\"text-align: right;\">\n",
       "      <th></th>\n",
       "      <th>csv_paths</th>\n",
       "      <th>csv_files</th>\n",
       "      <th>labels</th>\n",
       "    </tr>\n",
       "  </thead>\n",
       "  <tbody>\n",
       "    <tr>\n",
       "      <th>75</th>\n",
       "      <td>../raw_data/CSV_Features/Train/Good</td>\n",
       "      <td>11.csv</td>\n",
       "      <td>1</td>\n",
       "    </tr>\n",
       "    <tr>\n",
       "      <th>76</th>\n",
       "      <td>../raw_data/CSV_Features/Train/Good</td>\n",
       "      <td>13.csv</td>\n",
       "      <td>1</td>\n",
       "    </tr>\n",
       "    <tr>\n",
       "      <th>77</th>\n",
       "      <td>../raw_data/CSV_Features/Train/Good</td>\n",
       "      <td>12.csv</td>\n",
       "      <td>1</td>\n",
       "    </tr>\n",
       "    <tr>\n",
       "      <th>78</th>\n",
       "      <td>../raw_data/CSV_Features/Train/Good</td>\n",
       "      <td>9.csv</td>\n",
       "      <td>1</td>\n",
       "    </tr>\n",
       "    <tr>\n",
       "      <th>79</th>\n",
       "      <td>../raw_data/CSV_Features/Train/Good</td>\n",
       "      <td>8.csv</td>\n",
       "      <td>1</td>\n",
       "    </tr>\n",
       "  </tbody>\n",
       "</table>\n",
       "</div>"
      ],
      "text/plain": [
       "                              csv_paths csv_files  labels\n",
       "75  ../raw_data/CSV_Features/Train/Good    11.csv       1\n",
       "76  ../raw_data/CSV_Features/Train/Good    13.csv       1\n",
       "77  ../raw_data/CSV_Features/Train/Good    12.csv       1\n",
       "78  ../raw_data/CSV_Features/Train/Good     9.csv       1\n",
       "79  ../raw_data/CSV_Features/Train/Good     8.csv       1"
      ]
     },
     "execution_count": 31,
     "metadata": {},
     "output_type": "execute_result"
    }
   ],
   "source": [
    "train_data.tail()"
   ]
  },
  {
   "cell_type": "code",
   "execution_count": 32,
   "metadata": {
    "executionInfo": {
     "elapsed": 2610,
     "status": "ok",
     "timestamp": 1614957009880,
     "user": {
      "displayName": "Robyn Korolnek",
      "photoUrl": "",
      "userId": "16134780550472158874"
     },
     "user_tz": 300
    },
    "id": "ajCL_Xruuzjd"
   },
   "outputs": [],
   "source": [
    "y_train = train_data['labels']"
   ]
  },
  {
   "cell_type": "code",
   "execution_count": 33,
   "metadata": {
    "colab": {
     "base_uri": "https://localhost:8080/"
    },
    "executionInfo": {
     "elapsed": 2604,
     "status": "ok",
     "timestamp": 1614957009882,
     "user": {
      "displayName": "Robyn Korolnek",
      "photoUrl": "",
      "userId": "16134780550472158874"
     },
     "user_tz": 300
    },
    "id": "mwVf-Utm5XjI",
    "outputId": "2f090129-b36f-4337-ee27-67150bdedfc5"
   },
   "outputs": [
    {
     "data": {
      "text/plain": [
       "0     0\n",
       "1     0\n",
       "2     0\n",
       "3     0\n",
       "4     0\n",
       "     ..\n",
       "75    1\n",
       "76    1\n",
       "77    1\n",
       "78    1\n",
       "79    1\n",
       "Name: labels, Length: 80, dtype: int64"
      ]
     },
     "execution_count": 33,
     "metadata": {},
     "output_type": "execute_result"
    }
   ],
   "source": [
    "y_train"
   ]
  },
  {
   "cell_type": "code",
   "execution_count": 34,
   "metadata": {
    "executionInfo": {
     "elapsed": 2600,
     "status": "ok",
     "timestamp": 1614957009883,
     "user": {
      "displayName": "Robyn Korolnek",
      "photoUrl": "",
      "userId": "16134780550472158874"
     },
     "user_tz": 300
    },
    "id": "XcEibAzRvKgh"
   },
   "outputs": [],
   "source": [
    "y_test = test_data['labels']"
   ]
  },
  {
   "cell_type": "code",
   "execution_count": 35,
   "metadata": {
    "executionInfo": {
     "elapsed": 2592,
     "status": "ok",
     "timestamp": 1614957009885,
     "user": {
      "displayName": "Robyn Korolnek",
      "photoUrl": "",
      "userId": "16134780550472158874"
     },
     "user_tz": 300
    },
    "id": "qevqvHW5K8jA"
   },
   "outputs": [],
   "source": [
    "def csv_to_list_of_lists(csv_path):\n",
    "    df = pd.read_csv(csv_path)\n",
    "    df.fillna(180, inplace=True)\n",
    "    list_of_lists = df.feature_1.values.tolist()\n",
    "    return list_of_lists"
   ]
  },
  {
   "cell_type": "code",
   "execution_count": 36,
   "metadata": {
    "executionInfo": {
     "elapsed": 2589,
     "status": "ok",
     "timestamp": 1614957009886,
     "user": {
      "displayName": "Robyn Korolnek",
      "photoUrl": "",
      "userId": "16134780550472158874"
     },
     "user_tz": 300
    },
    "id": "KxcjNTM3JmPW"
   },
   "outputs": [],
   "source": [
    "def get_x(dataframe):\n",
    "  list_of_csv_files = [os.path.join(row['csv_paths'], row[\"csv_files\"]) for index, row in dataframe.iterrows()]\n",
    "  X_list = [csv_to_list_of_lists(f) for f in list_of_csv_files]\n",
    "  return X_list"
   ]
  },
  {
   "cell_type": "code",
   "execution_count": 37,
   "metadata": {
    "executionInfo": {
     "elapsed": 3038,
     "status": "ok",
     "timestamp": 1614957010340,
     "user": {
      "displayName": "Robyn Korolnek",
      "photoUrl": "",
      "userId": "16134780550472158874"
     },
     "user_tz": 300
    },
    "id": "NT_pYhAMOpA9"
   },
   "outputs": [],
   "source": [
    "#X_train is a list of lists of different list lengths\n",
    "X_train = get_x(train_data)"
   ]
  },
  {
   "cell_type": "code",
   "execution_count": 38,
   "metadata": {
    "executionInfo": {
     "elapsed": 3033,
     "status": "ok",
     "timestamp": 1614957010340,
     "user": {
      "displayName": "Robyn Korolnek",
      "photoUrl": "",
      "userId": "16134780550472158874"
     },
     "user_tz": 300
    },
    "id": "GupAW-9Na6tR"
   },
   "outputs": [],
   "source": [
    "#normalizing the X_train\n",
    "X_train = [[float(j)/180 for j in i] for i in X_train] "
   ]
  },
  {
   "cell_type": "code",
   "execution_count": 39,
   "metadata": {
    "colab": {
     "base_uri": "https://localhost:8080/"
    },
    "executionInfo": {
     "elapsed": 3284,
     "status": "ok",
     "timestamp": 1614957010601,
     "user": {
      "displayName": "Robyn Korolnek",
      "photoUrl": "",
      "userId": "16134780550472158874"
     },
     "user_tz": 300
    },
    "id": "it7tjkH-QRPy",
    "outputId": "ebcfe9a1-1a2c-4275-f112-6fe2d0adf8f7"
   },
   "outputs": [
    {
     "data": {
      "text/plain": [
       "(80, 176)"
      ]
     },
     "execution_count": 39,
     "metadata": {},
     "output_type": "execute_result"
    }
   ],
   "source": [
    "#pad X_train so all arrays are of the same shape\n",
    "X_train_pad = pad_sequences(X_train, dtype='float32',padding='post',value=-1000)\n",
    "X_train_pad.shape"
   ]
  },
  {
   "cell_type": "code",
   "execution_count": 40,
   "metadata": {
    "colab": {
     "base_uri": "https://localhost:8080/"
    },
    "executionInfo": {
     "elapsed": 3279,
     "status": "ok",
     "timestamp": 1614957010602,
     "user": {
      "displayName": "Robyn Korolnek",
      "photoUrl": "",
      "userId": "16134780550472158874"
     },
     "user_tz": 300
    },
    "id": "pT04wkwZSCSa",
    "outputId": "f966d872-d9f3-4481-d105-54c552e96ac6"
   },
   "outputs": [
    {
     "data": {
      "text/plain": [
       "(80, 176, 1)"
      ]
     },
     "execution_count": 40,
     "metadata": {},
     "output_type": "execute_result"
    }
   ],
   "source": [
    "#input data must be of shape(number of sequences, number of observations per sequence, observation size)\n",
    "#add a last dimension of 1\n",
    "X_train_pad = np.expand_dims(X_train_pad, 2)\n",
    "X_train_pad.shape"
   ]
  },
  {
   "cell_type": "code",
   "execution_count": 41,
   "metadata": {
    "executionInfo": {
     "elapsed": 3381,
     "status": "ok",
     "timestamp": 1614957010710,
     "user": {
      "displayName": "Robyn Korolnek",
      "photoUrl": "",
      "userId": "16134780550472158874"
     },
     "user_tz": 300
    },
    "id": "EwwzvDQUJ3aS"
   },
   "outputs": [],
   "source": [
    "#X_test is a list of lists of different list lengths\n",
    "X_test = get_x(test_data)"
   ]
  },
  {
   "cell_type": "code",
   "execution_count": 42,
   "metadata": {
    "executionInfo": {
     "elapsed": 3380,
     "status": "ok",
     "timestamp": 1614957010712,
     "user": {
      "displayName": "Robyn Korolnek",
      "photoUrl": "",
      "userId": "16134780550472158874"
     },
     "user_tz": 300
    },
    "id": "LylXdvdXe7pm"
   },
   "outputs": [],
   "source": [
    "#normalizing the X_test\n",
    "X_test = [[float(j)/180 for j in i] for i in X_test] "
   ]
  },
  {
   "cell_type": "code",
   "execution_count": 43,
   "metadata": {
    "executionInfo": {
     "elapsed": 3375,
     "status": "ok",
     "timestamp": 1614957010712,
     "user": {
      "displayName": "Robyn Korolnek",
      "photoUrl": "",
      "userId": "16134780550472158874"
     },
     "user_tz": 300
    },
    "id": "v3zoAjIHQiUu"
   },
   "outputs": [],
   "source": [
    "#pad X_test so all arrays are of the same shape\n",
    "X_test_pad = pad_sequences(X_test, dtype='float32',padding='post',value=-1000)\n",
    "\n",
    "#input data must be of shape(number of sequences, number of observations per sequence, observation size)\n",
    "#add a last dimension of 1\n",
    "X_test_pad = np.expand_dims(X_test_pad, 2)"
   ]
  },
  {
   "cell_type": "code",
   "execution_count": 44,
   "metadata": {},
   "outputs": [
    {
     "name": "stdout",
     "output_type": "stream",
     "text": [
      "(80, 176, 1)\n",
      "(80,)\n",
      "(20, 135, 1)\n",
      "(20,)\n"
     ]
    }
   ],
   "source": [
    "print(X_train_pad.shape)\n",
    "print(y_train.shape)\n",
    "print(X_test_pad.shape)\n",
    "print(y_test.shape)"
   ]
  },
  {
   "cell_type": "code",
   "execution_count": 45,
   "metadata": {},
   "outputs": [],
   "source": [
    "X_test_pad = np.array(X_test_pad)\n",
    "y_test = np.array(y_test)\n",
    "X_train_pad = np.array(X_train_pad)\n",
    "y_train = np.array(y_train)"
   ]
  },
  {
   "cell_type": "code",
   "execution_count": 46,
   "metadata": {},
   "outputs": [
    {
     "data": {
      "text/plain": [
       "array([[[ 9.8420858e-01],\n",
       "        [ 9.6434009e-01],\n",
       "        [ 9.6434009e-01],\n",
       "        ...,\n",
       "        [-1.0000000e+03],\n",
       "        [-1.0000000e+03],\n",
       "        [-1.0000000e+03]],\n",
       "\n",
       "       [[ 9.4678652e-01],\n",
       "        [ 9.4678652e-01],\n",
       "        [ 9.4678652e-01],\n",
       "        ...,\n",
       "        [-1.0000000e+03],\n",
       "        [-1.0000000e+03],\n",
       "        [-1.0000000e+03]],\n",
       "\n",
       "       [[ 9.3531430e-01],\n",
       "        [ 9.4639975e-01],\n",
       "        [ 9.4639975e-01],\n",
       "        ...,\n",
       "        [-1.0000000e+03],\n",
       "        [-1.0000000e+03],\n",
       "        [-1.0000000e+03]],\n",
       "\n",
       "       ...,\n",
       "\n",
       "       [[ 9.1696727e-01],\n",
       "        [ 9.1696727e-01],\n",
       "        [ 8.9573228e-01],\n",
       "        ...,\n",
       "        [-1.0000000e+03],\n",
       "        [-1.0000000e+03],\n",
       "        [-1.0000000e+03]],\n",
       "\n",
       "       [[ 9.6943223e-01],\n",
       "        [ 9.9678171e-01],\n",
       "        [ 8.7710971e-01],\n",
       "        ...,\n",
       "        [-1.0000000e+03],\n",
       "        [-1.0000000e+03],\n",
       "        [-1.0000000e+03]],\n",
       "\n",
       "       [[ 8.5975575e-01],\n",
       "        [ 9.4406283e-01],\n",
       "        [ 8.4102827e-01],\n",
       "        ...,\n",
       "        [-1.0000000e+03],\n",
       "        [-1.0000000e+03],\n",
       "        [-1.0000000e+03]]], dtype=float32)"
      ]
     },
     "execution_count": 46,
     "metadata": {},
     "output_type": "execute_result"
    }
   ],
   "source": [
    "X_test_pad"
   ]
  },
  {
   "cell_type": "code",
   "execution_count": 23,
   "metadata": {},
   "outputs": [],
   "source": [
    "#dimensions look good and ready to rain "
   ]
  },
  {
   "cell_type": "code",
   "execution_count": 54,
   "metadata": {
    "executionInfo": {
     "elapsed": 3365,
     "status": "ok",
     "timestamp": 1614957010713,
     "user": {
      "displayName": "Robyn Korolnek",
      "photoUrl": "",
      "userId": "16134780550472158874"
     },
     "user_tz": 300
    },
    "id": "EK04Np4dQ7AA"
   },
   "outputs": [],
   "source": [
    "#LSTM RNN Model\n",
    "model_LSTM = Sequential()\n",
    "\n",
    "##change masking layer to padded amount\n",
    "model_LSTM.add(layers.Masking(mask_value=-1000))\n",
    "\n",
    "#how many units should the first layer be??\n",
    "model_LSTM.add(layers.LSTM(100, activation='tanh'))  \n",
    "model_LSTM.add(layers.Dense(80, activation='relu'))\n",
    "model_LSTM.add(layers.Dense(60, activation='relu'))\n",
    "model_LSTM.add(layers.Dense(20, activation='tanh'))\n",
    "model_LSTM.add(layers.Dense(1, activation='sigmoid'))\n",
    "model_LSTM.compile(loss='binary_crossentropy', optimizer='adam', metrics=['accuracy'])"
   ]
  },
  {
   "cell_type": "markdown",
   "metadata": {
    "id": "RkhbJldQcdZV"
   },
   "source": [
    "#More Complex LSTM RNN Model\n",
    "model_LSTM = Sequential()\n",
    "\n",
    "##change masking layer to padded amount\n",
    "model_LSTM.add(layers.Masking(mask_value=-1.))\n",
    "\n",
    "##Hogan's first layer (do i need to add an input dimension??)\n",
    "model.add(layers.SimpleRNN(500, input_dim=1, activation='relu'))\n",
    "\n",
    "#how many units should the first layer be??\n",
    "model_LSTM.add(layers.LSTM(units=500, activation='tanh'))  \n",
    "model_LSTM.add(layers.Dense(250, activation='relu'))\n",
    "model_LSTM.add(layers.Dense(125, activation='relu'))\n",
    "model_LSTM.add(layers.Dense(75, activation='relu'))\n",
    "model_LSTM.add(layers.Dense(25, activation='relu'))\n",
    "model_LSTM.add(layers.Dense(1, activation='sigmoid'))\n",
    "\n",
    "model.compile(loss='binary_crossentropy', optimizer='adam', metrics=['accuracy'])"
   ]
  },
  {
   "cell_type": "code",
   "execution_count": 55,
   "metadata": {
    "colab": {
     "base_uri": "https://localhost:8080/"
    },
    "executionInfo": {
     "elapsed": 9888,
     "status": "ok",
     "timestamp": 1614957017244,
     "user": {
      "displayName": "Robyn Korolnek",
      "photoUrl": "",
      "userId": "16134780550472158874"
     },
     "user_tz": 300
    },
    "id": "4mp_5Q_YhjYP",
    "outputId": "0813d73b-a7c2-44a0-80a6-9d922a09e7f3"
   },
   "outputs": [
    {
     "name": "stdout",
     "output_type": "stream",
     "text": [
      "Epoch 1/10\n",
      "2/2 [==============================] - 6s 2s/step - loss: 0.6912 - accuracy: 0.6146 - val_loss: 0.7330 - val_accuracy: 0.0000e+00\n",
      "Epoch 2/10\n",
      "2/2 [==============================] - 0s 160ms/step - loss: 0.6824 - accuracy: 0.6042 - val_loss: 0.7781 - val_accuracy: 0.0000e+00\n",
      "Epoch 3/10\n",
      "2/2 [==============================] - 0s 156ms/step - loss: 0.6747 - accuracy: 0.6146 - val_loss: 0.8468 - val_accuracy: 0.0000e+00\n",
      "Epoch 4/10\n",
      "2/2 [==============================] - 0s 151ms/step - loss: 0.6605 - accuracy: 0.6354 - val_loss: 0.9721 - val_accuracy: 0.0000e+00\n",
      "Epoch 5/10\n",
      "2/2 [==============================] - 0s 162ms/step - loss: 0.6549 - accuracy: 0.6354 - val_loss: 1.1259 - val_accuracy: 0.0000e+00\n",
      "Epoch 6/10\n",
      "2/2 [==============================] - 0s 152ms/step - loss: 0.6493 - accuracy: 0.6458 - val_loss: 1.1588 - val_accuracy: 0.0000e+00\n",
      "Epoch 7/10\n",
      "2/2 [==============================] - 0s 148ms/step - loss: 0.6597 - accuracy: 0.6146 - val_loss: 1.0696 - val_accuracy: 0.0000e+00\n",
      "Epoch 8/10\n",
      "2/2 [==============================] - 0s 161ms/step - loss: 0.6508 - accuracy: 0.6146 - val_loss: 1.0144 - val_accuracy: 0.0000e+00\n",
      "Epoch 9/10\n",
      "2/2 [==============================] - 0s 152ms/step - loss: 0.6612 - accuracy: 0.6146 - val_loss: 0.9848 - val_accuracy: 0.0000e+00\n",
      "Epoch 10/10\n",
      "2/2 [==============================] - 0s 212ms/step - loss: 0.6449 - accuracy: 0.6354 - val_loss: 0.9926 - val_accuracy: 0.0000e+00\n"
     ]
    },
    {
     "data": {
      "text/plain": [
       "<tensorflow.python.keras.callbacks.History at 0x140091ca0>"
      ]
     },
     "execution_count": 55,
     "metadata": {},
     "output_type": "execute_result"
    }
   ],
   "source": [
    "model_LSTM.fit(X_train_pad, y_train, \n",
    "              epochs=10, \n",
    "              batch_size=32, \n",
    "              verbose=1, \n",
    "              validation_split=0.2)"
   ]
  },
  {
   "cell_type": "code",
   "execution_count": 56,
   "metadata": {
    "colab": {
     "base_uri": "https://localhost:8080/"
    },
    "executionInfo": {
     "elapsed": 12081,
     "status": "ok",
     "timestamp": 1614957019448,
     "user": {
      "displayName": "Robyn Korolnek",
      "photoUrl": "",
      "userId": "16134780550472158874"
     },
     "user_tz": 300
    },
    "id": "lG2p8lhIh3Hq",
    "outputId": "2b5fff9f-dc6f-4213-d7a0-a959cd0efff8"
   },
   "outputs": [
    {
     "name": "stdout",
     "output_type": "stream",
     "text": [
      "1/1 [==============================] - 2s 2s/step - loss: 0.7643 - accuracy: 0.5000\n"
     ]
    },
    {
     "data": {
      "text/plain": [
       "[0.7642539739608765, 0.5]"
      ]
     },
     "execution_count": 56,
     "metadata": {},
     "output_type": "execute_result"
    }
   ],
   "source": [
    "#Evaluate the model on the test set\n",
    "model_LSTM.evaluate(X_test_pad, y_test)"
   ]
  },
  {
   "cell_type": "code",
   "execution_count": 53,
   "metadata": {},
   "outputs": [
    {
     "name": "stdout",
     "output_type": "stream",
     "text": [
      "Model: \"sequential_1\"\n",
      "_________________________________________________________________\n",
      "Layer (type)                 Output Shape              Param #   \n",
      "=================================================================\n",
      "masking_1 (Masking)          (None, None, 1)           0         \n",
      "_________________________________________________________________\n",
      "lstm_1 (LSTM)                (None, 100)               40800     \n",
      "_________________________________________________________________\n",
      "dense_4 (Dense)              (None, 80)                8080      \n",
      "_________________________________________________________________\n",
      "dense_5 (Dense)              (None, 60)                4860      \n",
      "_________________________________________________________________\n",
      "dense_6 (Dense)              (None, 20)                1220      \n",
      "_________________________________________________________________\n",
      "dense_7 (Dense)              (None, 1)                 21        \n",
      "=================================================================\n",
      "Total params: 54,981\n",
      "Trainable params: 54,981\n",
      "Non-trainable params: 0\n",
      "_________________________________________________________________\n"
     ]
    }
   ],
   "source": [
    "model_LSTM.summary()"
   ]
  },
  {
   "cell_type": "code",
   "execution_count": null,
   "metadata": {},
   "outputs": [],
   "source": [
    "#creating a grid search\n",
    "#we have three models\n",
    "#each one of those models has possible parameters\n",
    "\n",
    "#SCI-KIT LEARN DOCUMENTATION\n",
    "\n",
    "simple_RNN_parameters = {'kernel':('linear', 'rbf'), 'C':[1, 10]}\n",
    "GRU_parameters = {'kernel':('linear', 'rbf'), 'C':[1, 10]}\n",
    "LSTM_parameters = {'kernel':('linear', 'rbf'), 'C':[1, 10]}"
   ]
  }
 ],
 "metadata": {
  "colab": {
   "authorship_tag": "ABX9TyOM570E40zIRLLVIPwxu59s",
   "name": "RNN.ipynb",
   "provenance": []
  },
  "kernelspec": {
   "display_name": "Python 3",
   "language": "python",
   "name": "python3"
  },
  "language_info": {
   "codemirror_mode": {
    "name": "ipython",
    "version": 3
   },
   "file_extension": ".py",
   "mimetype": "text/x-python",
   "name": "python",
   "nbconvert_exporter": "python",
   "pygments_lexer": "ipython3",
   "version": "3.8.6"
  }
 },
 "nbformat": 4,
 "nbformat_minor": 1
}
