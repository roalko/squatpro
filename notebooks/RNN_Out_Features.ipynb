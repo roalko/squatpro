{
 "cells": [
  {
   "cell_type": "code",
   "execution_count": 1,
   "metadata": {
    "executionInfo": {
     "elapsed": 273,
     "status": "ok",
     "timestamp": 1614961350099,
     "user": {
      "displayName": "Robyn Korolnek",
      "photoUrl": "",
      "userId": "16134780550472158874"
     },
     "user_tz": 300
    },
    "id": "L5WKduY07yN0"
   },
   "outputs": [],
   "source": [
    "#TO DO\n",
    "#did not normalize or standardize\n",
    "#nans in test set to 180\n",
    "\n",
    "# Do I want to make the padding value 0 so i ignore all rows with 0??\n",
    "# should i use a different optimizer for my compiler?? maybe rmsprop"
   ]
  },
  {
   "cell_type": "code",
   "execution_count": 134,
   "metadata": {
    "executionInfo": {
     "elapsed": 2353,
     "status": "ok",
     "timestamp": 1614961352191,
     "user": {
      "displayName": "Robyn Korolnek",
      "photoUrl": "",
      "userId": "16134780550472158874"
     },
     "user_tz": 300
    },
    "id": "CIoNzRhOjOdk"
   },
   "outputs": [],
   "source": [
    "import pandas as pd\n",
    "import os\n",
    "import csv\n",
    "import numpy as np\n",
    "from tensorflow.keras import Sequential, layers\n",
    "from tensorflow.keras.callbacks import EarlyStopping\n",
    "from tensorflow.keras.preprocessing.sequence import pad_sequences"
   ]
  },
  {
   "cell_type": "code",
   "execution_count": 135,
   "metadata": {
    "colab": {
     "base_uri": "https://localhost:8080/"
    },
    "executionInfo": {
     "elapsed": 2356,
     "status": "ok",
     "timestamp": 1614961352199,
     "user": {
      "displayName": "Robyn Korolnek",
      "photoUrl": "",
      "userId": "16134780550472158874"
     },
     "user_tz": 300
    },
    "id": "uXKbqtBAsdRf",
    "outputId": "125772fc-a5a5-4d78-f01b-0bf64da8d070",
    "scrolled": true
   },
   "outputs": [
    {
     "name": "stdout",
     "output_type": "stream",
     "text": [
      "Found 40 CSVs in ../raw_data/Out_Feature_CSVs/Train/Bad Directory\n",
      "Found 40 CSVs in ../raw_data/Out_Feature_CSVs/Train/Good Directory\n",
      "Number of csvs : 80\n",
      "Number of Labels : 80\n",
      "Found 10 CSVs in ../raw_data/Out_Feature_CSVs/Test/Bad Directory\n",
      "Found 10 CSVs in ../raw_data/Out_Feature_CSVs/Test/Good Directory\n",
      "Number of csvs : 20\n",
      "Number of Labels : 20\n"
     ]
    }
   ],
   "source": [
    "ROOT_DATA_DIR = '../raw_data/Out_Feature_CSVs'\n",
    "DATA_SUB_DIRs = [\"Train\", \"Test\"]\n",
    "CLS_LIST = [\"Bad\", \"Good\"]\n",
    "\n",
    "def get_y(data_path, class_list):\n",
    "    \n",
    "    data_dict = {\"csv_paths\":[], \"csv_files\":[], \"labels\":[]}\n",
    "    \n",
    "    for i, clss in enumerate(class_list):\n",
    "        dir_path = os.path.join(data_path, clss)\n",
    "        list_csvs = [l for l in os.listdir(dir_path) if l.split(\".\")[-1]==\"csv\"]\n",
    "        print(f\"Found {len(list_csvs)} CSVs in {dir_path} Directory\")\n",
    "        data_dict[\"csv_files\"].extend(list_csvs)\n",
    "        data_dict[\"labels\"].extend([i for k in range(len(list_csvs))])\n",
    "        data_dict[\"csv_paths\"].extend([dir_path for _ in range(len(list_csvs))])\n",
    "    \n",
    "    total_csvs = len(data_dict[\"csv_files\"])\n",
    "    total_labels = len(data_dict[\"labels\"])\n",
    "    print(f\"Number of csvs : {total_csvs}\")\n",
    "    print(f\"Number of Labels : {total_labels}\")\n",
    "    return data_dict\n",
    "\n",
    "train_data = pd.DataFrame(get_y(data_path=os.path.join(ROOT_DATA_DIR, DATA_SUB_DIRs[0]),\n",
    "                               class_list=CLS_LIST))\n",
    "\n",
    "\n",
    "test_data = pd.DataFrame(get_y(data_path=os.path.join(ROOT_DATA_DIR, DATA_SUB_DIRs[1]),\n",
    "                               class_list=CLS_LIST))  "
   ]
  },
  {
   "cell_type": "code",
   "execution_count": 136,
   "metadata": {},
   "outputs": [
    {
     "name": "stdout",
     "output_type": "stream",
     "text": [
      "                                  csv_paths csv_files  labels\n",
      "0    ../raw_data/Out_Feature_CSVs/Train/Bad    68.csv       0\n",
      "1    ../raw_data/Out_Feature_CSVs/Train/Bad    54.csv       0\n",
      "2    ../raw_data/Out_Feature_CSVs/Train/Bad    41.csv       0\n",
      "3    ../raw_data/Out_Feature_CSVs/Train/Bad    55.csv       0\n",
      "4    ../raw_data/Out_Feature_CSVs/Train/Bad    69.csv       0\n",
      "..                                      ...       ...     ...\n",
      "75  ../raw_data/Out_Feature_CSVs/Train/Good    11.csv       1\n",
      "76  ../raw_data/Out_Feature_CSVs/Train/Good    13.csv       1\n",
      "77  ../raw_data/Out_Feature_CSVs/Train/Good    12.csv       1\n",
      "78  ../raw_data/Out_Feature_CSVs/Train/Good     9.csv       1\n",
      "79  ../raw_data/Out_Feature_CSVs/Train/Good     8.csv       1\n",
      "\n",
      "[80 rows x 3 columns]\n",
      "                                  csv_paths csv_files  labels\n",
      "0    ../raw_data/Out_Feature_CSVs/Train/Bad    68.csv       0\n",
      "1    ../raw_data/Out_Feature_CSVs/Train/Bad    54.csv       0\n",
      "2    ../raw_data/Out_Feature_CSVs/Train/Bad    41.csv       0\n",
      "3    ../raw_data/Out_Feature_CSVs/Train/Bad    55.csv       0\n",
      "4    ../raw_data/Out_Feature_CSVs/Train/Bad    69.csv       0\n",
      "..                                      ...       ...     ...\n",
      "75  ../raw_data/Out_Feature_CSVs/Train/Good    11.csv       1\n",
      "76  ../raw_data/Out_Feature_CSVs/Train/Good    13.csv       1\n",
      "77  ../raw_data/Out_Feature_CSVs/Train/Good    12.csv       1\n",
      "78  ../raw_data/Out_Feature_CSVs/Train/Good     9.csv       1\n",
      "79  ../raw_data/Out_Feature_CSVs/Train/Good     8.csv       1\n",
      "\n",
      "[80 rows x 3 columns]\n",
      "                                  csv_paths csv_files  labels\n",
      "0    ../raw_data/Out_Feature_CSVs/Train/Bad    68.csv       0\n",
      "1    ../raw_data/Out_Feature_CSVs/Train/Bad    54.csv       0\n",
      "2    ../raw_data/Out_Feature_CSVs/Train/Bad    41.csv       0\n",
      "3    ../raw_data/Out_Feature_CSVs/Train/Bad    55.csv       0\n",
      "4    ../raw_data/Out_Feature_CSVs/Train/Bad    69.csv       0\n",
      "..                                      ...       ...     ...\n",
      "75  ../raw_data/Out_Feature_CSVs/Train/Good    11.csv       1\n",
      "76  ../raw_data/Out_Feature_CSVs/Train/Good    13.csv       1\n",
      "77  ../raw_data/Out_Feature_CSVs/Train/Good    12.csv       1\n",
      "78  ../raw_data/Out_Feature_CSVs/Train/Good     9.csv       1\n",
      "79  ../raw_data/Out_Feature_CSVs/Train/Good     8.csv       1\n",
      "\n",
      "[80 rows x 3 columns]\n"
     ]
    }
   ],
   "source": [
    "for i in train_data:\n",
    "    print(train_data)"
   ]
  },
  {
   "cell_type": "code",
   "execution_count": 137,
   "metadata": {
    "colab": {
     "base_uri": "https://localhost:8080/",
     "height": 204
    },
    "executionInfo": {
     "elapsed": 2349,
     "status": "ok",
     "timestamp": 1614961352200,
     "user": {
      "displayName": "Robyn Korolnek",
      "photoUrl": "",
      "userId": "16134780550472158874"
     },
     "user_tz": 300
    },
    "id": "Xb3itu3ouZJs",
    "outputId": "938e6eb1-1da0-42ba-c95e-3c34f2184958"
   },
   "outputs": [
    {
     "data": {
      "text/html": [
       "<div>\n",
       "<style scoped>\n",
       "    .dataframe tbody tr th:only-of-type {\n",
       "        vertical-align: middle;\n",
       "    }\n",
       "\n",
       "    .dataframe tbody tr th {\n",
       "        vertical-align: top;\n",
       "    }\n",
       "\n",
       "    .dataframe thead th {\n",
       "        text-align: right;\n",
       "    }\n",
       "</style>\n",
       "<table border=\"1\" class=\"dataframe\">\n",
       "  <thead>\n",
       "    <tr style=\"text-align: right;\">\n",
       "      <th></th>\n",
       "      <th>csv_paths</th>\n",
       "      <th>csv_files</th>\n",
       "      <th>labels</th>\n",
       "    </tr>\n",
       "  </thead>\n",
       "  <tbody>\n",
       "    <tr>\n",
       "      <th>0</th>\n",
       "      <td>../raw_data/Out_Feature_CSVs/Train/Bad</td>\n",
       "      <td>68.csv</td>\n",
       "      <td>0</td>\n",
       "    </tr>\n",
       "    <tr>\n",
       "      <th>1</th>\n",
       "      <td>../raw_data/Out_Feature_CSVs/Train/Bad</td>\n",
       "      <td>54.csv</td>\n",
       "      <td>0</td>\n",
       "    </tr>\n",
       "    <tr>\n",
       "      <th>2</th>\n",
       "      <td>../raw_data/Out_Feature_CSVs/Train/Bad</td>\n",
       "      <td>41.csv</td>\n",
       "      <td>0</td>\n",
       "    </tr>\n",
       "    <tr>\n",
       "      <th>3</th>\n",
       "      <td>../raw_data/Out_Feature_CSVs/Train/Bad</td>\n",
       "      <td>55.csv</td>\n",
       "      <td>0</td>\n",
       "    </tr>\n",
       "    <tr>\n",
       "      <th>4</th>\n",
       "      <td>../raw_data/Out_Feature_CSVs/Train/Bad</td>\n",
       "      <td>69.csv</td>\n",
       "      <td>0</td>\n",
       "    </tr>\n",
       "  </tbody>\n",
       "</table>\n",
       "</div>"
      ],
      "text/plain": [
       "                                csv_paths csv_files  labels\n",
       "0  ../raw_data/Out_Feature_CSVs/Train/Bad    68.csv       0\n",
       "1  ../raw_data/Out_Feature_CSVs/Train/Bad    54.csv       0\n",
       "2  ../raw_data/Out_Feature_CSVs/Train/Bad    41.csv       0\n",
       "3  ../raw_data/Out_Feature_CSVs/Train/Bad    55.csv       0\n",
       "4  ../raw_data/Out_Feature_CSVs/Train/Bad    69.csv       0"
      ]
     },
     "execution_count": 137,
     "metadata": {},
     "output_type": "execute_result"
    }
   ],
   "source": [
    "train_data.head()"
   ]
  },
  {
   "cell_type": "code",
   "execution_count": 138,
   "metadata": {
    "colab": {
     "base_uri": "https://localhost:8080/",
     "height": 35
    },
    "executionInfo": {
     "elapsed": 2342,
     "status": "ok",
     "timestamp": 1614961352201,
     "user": {
      "displayName": "Robyn Korolnek",
      "photoUrl": "",
      "userId": "16134780550472158874"
     },
     "user_tz": 300
    },
    "id": "tJv3QmUUARRF",
    "outputId": "5b2d542d-4613-46db-ff14-3dd02065a8c4"
   },
   "outputs": [
    {
     "data": {
      "text/plain": [
       "'../raw_data/Out_Feature_CSVs/Train/Bad'"
      ]
     },
     "execution_count": 138,
     "metadata": {},
     "output_type": "execute_result"
    }
   ],
   "source": [
    "train_data['csv_paths'][0]"
   ]
  },
  {
   "cell_type": "code",
   "execution_count": 139,
   "metadata": {
    "colab": {
     "base_uri": "https://localhost:8080/",
     "height": 204
    },
    "executionInfo": {
     "elapsed": 2335,
     "status": "ok",
     "timestamp": 1614961352201,
     "user": {
      "displayName": "Robyn Korolnek",
      "photoUrl": "",
      "userId": "16134780550472158874"
     },
     "user_tz": 300
    },
    "id": "m-8p3BJ6urbi",
    "outputId": "98cf9216-edfa-4919-a71c-727968d1905c"
   },
   "outputs": [
    {
     "data": {
      "text/html": [
       "<div>\n",
       "<style scoped>\n",
       "    .dataframe tbody tr th:only-of-type {\n",
       "        vertical-align: middle;\n",
       "    }\n",
       "\n",
       "    .dataframe tbody tr th {\n",
       "        vertical-align: top;\n",
       "    }\n",
       "\n",
       "    .dataframe thead th {\n",
       "        text-align: right;\n",
       "    }\n",
       "</style>\n",
       "<table border=\"1\" class=\"dataframe\">\n",
       "  <thead>\n",
       "    <tr style=\"text-align: right;\">\n",
       "      <th></th>\n",
       "      <th>csv_paths</th>\n",
       "      <th>csv_files</th>\n",
       "      <th>labels</th>\n",
       "    </tr>\n",
       "  </thead>\n",
       "  <tbody>\n",
       "    <tr>\n",
       "      <th>75</th>\n",
       "      <td>../raw_data/Out_Feature_CSVs/Train/Good</td>\n",
       "      <td>11.csv</td>\n",
       "      <td>1</td>\n",
       "    </tr>\n",
       "    <tr>\n",
       "      <th>76</th>\n",
       "      <td>../raw_data/Out_Feature_CSVs/Train/Good</td>\n",
       "      <td>13.csv</td>\n",
       "      <td>1</td>\n",
       "    </tr>\n",
       "    <tr>\n",
       "      <th>77</th>\n",
       "      <td>../raw_data/Out_Feature_CSVs/Train/Good</td>\n",
       "      <td>12.csv</td>\n",
       "      <td>1</td>\n",
       "    </tr>\n",
       "    <tr>\n",
       "      <th>78</th>\n",
       "      <td>../raw_data/Out_Feature_CSVs/Train/Good</td>\n",
       "      <td>9.csv</td>\n",
       "      <td>1</td>\n",
       "    </tr>\n",
       "    <tr>\n",
       "      <th>79</th>\n",
       "      <td>../raw_data/Out_Feature_CSVs/Train/Good</td>\n",
       "      <td>8.csv</td>\n",
       "      <td>1</td>\n",
       "    </tr>\n",
       "  </tbody>\n",
       "</table>\n",
       "</div>"
      ],
      "text/plain": [
       "                                  csv_paths csv_files  labels\n",
       "75  ../raw_data/Out_Feature_CSVs/Train/Good    11.csv       1\n",
       "76  ../raw_data/Out_Feature_CSVs/Train/Good    13.csv       1\n",
       "77  ../raw_data/Out_Feature_CSVs/Train/Good    12.csv       1\n",
       "78  ../raw_data/Out_Feature_CSVs/Train/Good     9.csv       1\n",
       "79  ../raw_data/Out_Feature_CSVs/Train/Good     8.csv       1"
      ]
     },
     "execution_count": 139,
     "metadata": {},
     "output_type": "execute_result"
    }
   ],
   "source": [
    "train_data.tail()"
   ]
  },
  {
   "cell_type": "code",
   "execution_count": 140,
   "metadata": {
    "executionInfo": {
     "elapsed": 2328,
     "status": "ok",
     "timestamp": 1614961352201,
     "user": {
      "displayName": "Robyn Korolnek",
      "photoUrl": "",
      "userId": "16134780550472158874"
     },
     "user_tz": 300
    },
    "id": "ajCL_Xruuzjd"
   },
   "outputs": [],
   "source": [
    "y_train = train_data['labels']"
   ]
  },
  {
   "cell_type": "code",
   "execution_count": 141,
   "metadata": {},
   "outputs": [],
   "source": [
    "y_test = test_data['labels']"
   ]
  },
  {
   "cell_type": "code",
   "execution_count": 142,
   "metadata": {
    "colab": {
     "base_uri": "https://localhost:8080/"
    },
    "executionInfo": {
     "elapsed": 2468,
     "status": "ok",
     "timestamp": 1614961352356,
     "user": {
      "displayName": "Robyn Korolnek",
      "photoUrl": "",
      "userId": "16134780550472158874"
     },
     "user_tz": 300
    },
    "id": "gqdTozO3AEqK",
    "outputId": "769caac1-080e-49c8-e80c-3221063fdd9e"
   },
   "outputs": [
    {
     "data": {
      "text/plain": [
       "(80,)"
      ]
     },
     "execution_count": 142,
     "metadata": {},
     "output_type": "execute_result"
    }
   ],
   "source": [
    "y_test.shape\n",
    "y_train.shape"
   ]
  },
  {
   "cell_type": "code",
   "execution_count": 143,
   "metadata": {
    "executionInfo": {
     "elapsed": 2731,
     "status": "ok",
     "timestamp": 1614961352629,
     "user": {
      "displayName": "Robyn Korolnek",
      "photoUrl": "",
      "userId": "16134780550472158874"
     },
     "user_tz": 300
    },
    "id": "qevqvHW5K8jA"
   },
   "outputs": [],
   "source": [
    "def csv_to_list_of_lists(csv_path):\n",
    "    df = pd.read_csv(csv_path)\n",
    "    df.fillna(0, inplace=True)\n",
    "    list_of_lists = df.iloc[:,1:].values.tolist()\n",
    "    return list_of_lists"
   ]
  },
  {
   "cell_type": "code",
   "execution_count": 144,
   "metadata": {
    "executionInfo": {
     "elapsed": 2729,
     "status": "ok",
     "timestamp": 1614961352630,
     "user": {
      "displayName": "Robyn Korolnek",
      "photoUrl": "",
      "userId": "16134780550472158874"
     },
     "user_tz": 300
    },
    "id": "KxcjNTM3JmPW"
   },
   "outputs": [],
   "source": [
    "def get_x(dataframe):\n",
    "  list_of_csv_files = [os.path.join(row['csv_paths'], row[\"csv_files\"]) for index, row in dataframe.iterrows()]\n",
    "  X_list = [csv_to_list_of_lists(f) for f in list_of_csv_files]\n",
    "  return X_list"
   ]
  },
  {
   "cell_type": "code",
   "execution_count": 145,
   "metadata": {
    "executionInfo": {
     "elapsed": 16078,
     "status": "ok",
     "timestamp": 1614961365982,
     "user": {
      "displayName": "Robyn Korolnek",
      "photoUrl": "",
      "userId": "16134780550472158874"
     },
     "user_tz": 300
    },
    "id": "NT_pYhAMOpA9"
   },
   "outputs": [],
   "source": [
    "#X_train is a list of lists of different list lengths\n",
    "X_train = get_x(train_data)"
   ]
  },
  {
   "cell_type": "code",
   "execution_count": 146,
   "metadata": {
    "colab": {
     "base_uri": "https://localhost:8080/"
    },
    "executionInfo": {
     "elapsed": 16763,
     "status": "ok",
     "timestamp": 1614961366670,
     "user": {
      "displayName": "Robyn Korolnek",
      "photoUrl": "",
      "userId": "16134780550472158874"
     },
     "user_tz": 300
    },
    "id": "it7tjkH-QRPy",
    "outputId": "4ecbf3b8-f00e-443c-a3ec-81965c71631f"
   },
   "outputs": [
    {
     "data": {
      "text/plain": [
       "(80, 176, 2048)"
      ]
     },
     "execution_count": 146,
     "metadata": {},
     "output_type": "execute_result"
    }
   ],
   "source": [
    "#pad X_train so all arrays are of the same shape\n",
    "X_train_pad = pad_sequences(X_train, dtype='float32',padding='post',value=-1000)\n",
    "X_train_pad.shape"
   ]
  },
  {
   "cell_type": "code",
   "execution_count": 147,
   "metadata": {
    "executionInfo": {
     "elapsed": 20513,
     "status": "ok",
     "timestamp": 1614961370430,
     "user": {
      "displayName": "Robyn Korolnek",
      "photoUrl": "",
      "userId": "16134780550472158874"
     },
     "user_tz": 300
    },
    "id": "EwwzvDQUJ3aS"
   },
   "outputs": [],
   "source": [
    "#X_test is a list of lists of different list lengths\n",
    "X_test = get_x(test_data)"
   ]
  },
  {
   "cell_type": "code",
   "execution_count": 148,
   "metadata": {
    "colab": {
     "base_uri": "https://localhost:8080/"
    },
    "executionInfo": {
     "elapsed": 20664,
     "status": "ok",
     "timestamp": 1614961370585,
     "user": {
      "displayName": "Robyn Korolnek",
      "photoUrl": "",
      "userId": "16134780550472158874"
     },
     "user_tz": 300
    },
    "id": "v3zoAjIHQiUu",
    "outputId": "a3057b15-eed5-48f4-d26c-b7ac30c66e43"
   },
   "outputs": [
    {
     "data": {
      "text/plain": [
       "(20, 135, 2048)"
      ]
     },
     "execution_count": 148,
     "metadata": {},
     "output_type": "execute_result"
    }
   ],
   "source": [
    "#pad X_test so all arrays are of the same shape\n",
    "X_test_pad = pad_sequences(X_test, dtype='float32',padding='post',value=-1000)\n",
    "X_test_pad.shape"
   ]
  },
  {
   "cell_type": "code",
   "execution_count": 185,
   "metadata": {},
   "outputs": [
    {
     "name": "stdout",
     "output_type": "stream",
     "text": [
      "(80, 176, 2048)\n",
      "(80,)\n",
      "(20, 135, 2048)\n",
      "(20,)\n"
     ]
    }
   ],
   "source": [
    "print(X_train_pad.shape)\n",
    "print(y_train.shape)\n",
    "print(X_test_pad.shape)\n",
    "print(y_test.shape)"
   ]
  },
  {
   "cell_type": "code",
   "execution_count": 162,
   "metadata": {},
   "outputs": [],
   "source": [
    "X_train_pad = np.array(X_train_pad)\n",
    "y_train = np.array(y_train)\n",
    "X_test_pad = np.array(X_test_pad)\n",
    "y_test =  np.array(y_test)"
   ]
  },
  {
   "cell_type": "markdown",
   "metadata": {
    "id": "EK04Np4dQ7AA"
   },
   "source": [
    "#LSTM RNN Model_1 (.55 - .60 accuracy)\n",
    "model_LSTM = Sequential()\n",
    "\n",
    "##change masking layer to padded amount\n",
    "model_LSTM.add(layers.Masking(mask_value=-1000))\n",
    "\n",
    "#how many units should the first layer be??\n",
    "model_LSTM.add(layers.LSTM(20, activation='tanh'))  \n",
    "model_LSTM.add(layers.Dense(10, activation='relu'))\n",
    "model_LSTM.add(layers.Dense(1, activation='sigmoid'))\n",
    "\n",
    "model_LSTM.compile(loss='binary_crossentropy', optimizer='adam', metrics=['accuracy'])"
   ]
  },
  {
   "cell_type": "code",
   "execution_count": 198,
   "metadata": {
    "executionInfo": {
     "elapsed": 272,
     "status": "ok",
     "timestamp": 1614961520898,
     "user": {
      "displayName": "Robyn Korolnek",
      "photoUrl": "",
      "userId": "16134780550472158874"
     },
     "user_tz": 300
    },
    "id": "el--M6AYLzvJ"
   },
   "outputs": [],
   "source": [
    "#LSTM RNN Model_2 (.70 - accuracy)\n",
    "model_LSTM = Sequential()\n",
    "\n",
    "##change masking layer to padded amount\n",
    "model_LSTM.add(layers.Masking(mask_value=-1000))\n",
    "\n",
    "#how many units should the first layer be??\n",
    "model_LSTM.add(layers.LSTM(200, activation='tanh'))\n",
    "model_LSTM.add(layers.Dense(100, activation='relu'))\n",
    "model_LSTM.add(layers.Dense(50, activation='relu'))\n",
    "model_LSTM.add(layers.Dense(10, activation='relu'))\n",
    "model_LSTM.add(layers.Dense(1, activation='sigmoid'))\n",
    "model_LSTM.compile(loss='binary_crossentropy', optimizer='RMSProp', metrics=['accuracy'])"
   ]
  },
  {
   "cell_type": "code",
   "execution_count": 199,
   "metadata": {},
   "outputs": [
    {
     "name": "stdout",
     "output_type": "stream",
     "text": [
      "Epoch 1/5\n",
      "2/2 [==============================] - ETA: 0s - loss: 0.6801 - accuracy: 0.6328WARNING:tensorflow:5 out of the last 15 calls to <function Model.make_test_function.<locals>.test_function at 0x15f26e940> triggered tf.function retracing. Tracing is expensive and the excessive number of tracings could be due to (1) creating @tf.function repeatedly in a loop, (2) passing tensors with different shapes, (3) passing Python objects instead of tensors. For (1), please define your @tf.function outside of the loop. For (2), @tf.function has experimental_relax_shapes=True option that relaxes argument shapes that can avoid unnecessary retracing. For (3), please refer to https://www.tensorflow.org/guide/function#controlling_retracing and https://www.tensorflow.org/api_docs/python/tf/function for  more details.\n",
      "2/2 [==============================] - 8s 3s/step - loss: 0.6755 - accuracy: 0.6354 - val_loss: 1.0244 - val_accuracy: 0.1875\n",
      "Epoch 2/5\n",
      "2/2 [==============================] - 2s 876ms/step - loss: 0.6679 - accuracy: 0.6979 - val_loss: 0.5997 - val_accuracy: 0.4375\n",
      "Epoch 3/5\n",
      "2/2 [==============================] - 2s 977ms/step - loss: 0.6332 - accuracy: 0.6354 - val_loss: 1.2355 - val_accuracy: 0.1875\n",
      "Epoch 4/5\n",
      "2/2 [==============================] - 2s 974ms/step - loss: 0.5647 - accuracy: 0.6979 - val_loss: 0.5577 - val_accuracy: 0.8750\n",
      "Epoch 5/5\n",
      "2/2 [==============================] - 2s 1s/step - loss: 0.6413 - accuracy: 0.5938 - val_loss: 0.7671 - val_accuracy: 0.1875\n"
     ]
    },
    {
     "data": {
      "text/plain": [
       "<tensorflow.python.keras.callbacks.History at 0x15ed71a90>"
      ]
     },
     "execution_count": 199,
     "metadata": {},
     "output_type": "execute_result"
    }
   ],
   "source": [
    "#Fitting the model to the train set\n",
    "es = EarlyStopping(patience=5)\n",
    "\n",
    "model_LSTM.fit(X_train_pad, y_train, \n",
    "              epochs=5, \n",
    "              batch_size=32, \n",
    "              verbose=1, \n",
    "              callbacks = [es],\n",
    "              shuffle=True ,\n",
    "              validation_split=0.2)"
   ]
  },
  {
   "cell_type": "markdown",
   "metadata": {
    "id": "RkhbJldQcdZV"
   },
   "source": [
    "##Hogan's first layer (do i need to add an input dimension??)\n",
    "model.add(layers.SimpleRNN(500, input_dim=1, activation='relu'))\n",
    "\n",
    "#how many units should the first layer be??\n",
    "model.add(layers.LSTM(units=500, activation='tanh'))  \n",
    "model.add(layers.Dense(250, activation='relu'))\n",
    "model.add(layers.Dense(125, activation='relu'))\n",
    "model.add(layers.Dense(75, activation='relu'))\n",
    "model.add(layers.Dense(25, activation='relu'))\n",
    "model.add(layers.Dense(1, activation='sigmoid'))\n",
    "\n",
    "model.compile(loss='binary_crossentropy', optimizer='adam', metrics=['accuracy'])"
   ]
  },
  {
   "cell_type": "code",
   "execution_count": 200,
   "metadata": {},
   "outputs": [
    {
     "name": "stdout",
     "output_type": "stream",
     "text": [
      "3/3 [==============================] - 1s 234ms/step - loss: 0.6087 - accuracy: 0.6125\n"
     ]
    },
    {
     "data": {
      "text/plain": [
       "[0.6087079644203186, 0.612500011920929]"
      ]
     },
     "execution_count": 200,
     "metadata": {},
     "output_type": "execute_result"
    }
   ],
   "source": [
    "#Evaluate the model on the train set\n",
    "model_LSTM.evaluate(X_train_pad, y_train)"
   ]
  },
  {
   "cell_type": "code",
   "execution_count": 201,
   "metadata": {
    "colab": {
     "base_uri": "https://localhost:8080/"
    },
    "executionInfo": {
     "elapsed": 64888,
     "status": "ok",
     "timestamp": 1614961414820,
     "user": {
      "displayName": "Robyn Korolnek",
      "photoUrl": "",
      "userId": "16134780550472158874"
     },
     "user_tz": 300
    },
    "id": "lG2p8lhIh3Hq",
    "outputId": "60cfc5a1-c425-4bf4-cb39-d1b3dea24237"
   },
   "outputs": [
    {
     "name": "stdout",
     "output_type": "stream",
     "text": [
      "1/1 [==============================] - 2s 2s/step - loss: 0.6094 - accuracy: 0.7000\n"
     ]
    },
    {
     "data": {
      "text/plain": [
       "[0.6094247698783875, 0.699999988079071]"
      ]
     },
     "execution_count": 201,
     "metadata": {},
     "output_type": "execute_result"
    }
   ],
   "source": [
    "#Evaluate the model on the test set\n",
    "model_LSTM.evaluate(X_test_pad, y_test)"
   ]
  },
  {
   "cell_type": "markdown",
   "metadata": {},
   "source": [
    "#how many units should the first layer be??\n",
    "model_LSTM.add(layers.LSTM(200, activation='tanh'))\n",
    "model_LSTM.add(layers.Dense(100, activation='relu'))\n",
    "model_LSTM.add(layers.Dense(50, activation='relu'))\n",
    "model_LSTM.add(layers.Dense(25, activation='relu'))\n",
    "model_LSTM.add(layers.Dense(5, activation='relu'))\n",
    "model_LSTM.add(layers.Dense(1, activation='sigmoid'))\n",
    "\n",
    "\n",
    "SECOND TRY\n",
    "----------\n",
    "train_high -  loss: 0.6067 - accuracy: 0.6979 - val_loss: 0.9396 - val_accuracy: 0.3125\n",
    "eval - loss: 0.4998 - accuracy: 0.7000\n",
    "        \n",
    "\n",
    "THIRD TRY\n",
    "----------\n",
    "train_high -  loss: 0.6067 - accuracy: 0.6979 - val_loss: 0.9396 - val_accuracy: 0.3125\n",
    "eval - loss: 0.4998 - accuracy: 0.7000\n",
    "\n",
    "-----------------------------------------------------------------------------\n",
    "model_LSTM.add(layers.LSTM(200, activation='tanh'))\n",
    "model_LSTM.add(layers.Dense(150, activation='relu'))\n",
    "model_LSTM.add(layers.Dense(75, activation='relu'))\n",
    "model_LSTM.add(layers.Dense(20, activation='relu'))\n",
    "model_LSTM.add(layers.Dense(1, activation='sigmoid'))\n",
    "model_LSTM.compile(loss='binary_crossentropy', optimizer='RMSProp', metrics=['accuracy'])\n",
    "\n",
    "1st\n",
    "-----\n",
    "Test - 1/1 [==============================] - 2s 2s/step - loss: 0.6118 - accuracy: 0.6500\n",
    "Median Train - 2/2 [==============================] - 2s 851ms/step - loss: 0.6207 - accuracy: 0.6875 - val_loss: 0.7819 - val_accur)\n",
    "2nd\n",
    "-----\n",
    "Test - 1/1 [==============================] - 2s 2s/step - loss: 0.7145 - accuracy: 0.6500\n",
    "Median Train - 2/2 [==============================] - 2s 910ms/step - loss: 0.5711 - accuracy: 0.7083 - val_loss: 1.1240 - val_accuracy: 0.2500\n",
    "\n",
    "4th\n",
    "-----\n",
    "Test - 1/1 [==============================] - 2s 2s/step - loss: 0.6118 - accuracy: 0.6500\n",
    "Median Train - 2/2 [==============================] - 2s 851ms/step - loss: 0.6207 - accuracy: 0.6875 - val_loss: 0.7819 - val_accur)\n",
    "\n",
    "5th\n",
    "-----\n",
    "Test - 1/1 [==============================] - 2s 2s/step - loss: 0.7145 - accuracy: 0.6500\n",
    "Median Train - 2/2 [==============================] - 2s 910ms/step - loss: 0.5711 - accuracy: 0.7083 - val_loss: 1.1240 - val_accuracy: 0.2500"
   ]
  }
 ],
 "metadata": {
  "colab": {
   "authorship_tag": "ABX9TyMK8Xh95nhqy5Ib5h6QRQdH",
   "name": "RNN_Out_Features.ipynb",
   "provenance": [],
   "toc_visible": true
  },
  "kernelspec": {
   "display_name": "Python 3",
   "language": "python",
   "name": "python3"
  },
  "language_info": {
   "codemirror_mode": {
    "name": "ipython",
    "version": 3
   },
   "file_extension": ".py",
   "mimetype": "text/x-python",
   "name": "python",
   "nbconvert_exporter": "python",
   "pygments_lexer": "ipython3",
   "version": "3.8.6"
  }
 },
 "nbformat": 4,
 "nbformat_minor": 1
}
