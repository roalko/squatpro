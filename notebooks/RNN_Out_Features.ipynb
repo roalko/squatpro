{
 "cells": [
  {
   "cell_type": "code",
   "execution_count": 1,
   "metadata": {
    "executionInfo": {
     "elapsed": 335,
     "status": "ok",
     "timestamp": 1615322815786,
     "user": {
      "displayName": "Robyn Korolnek",
      "photoUrl": "",
      "userId": "16134780550472158874"
     },
     "user_tz": 300
    },
    "id": "L5WKduY07yN0"
   },
   "outputs": [],
   "source": [
    "#nans set to 0\r\n",
    "\r\n",
    "# Do I want to make the padding value 0 so i ignore all rows with 0??\r\n",
    "# should i use a different optimizer for my compiler?? maybe adam"
   ]
  },
  {
   "cell_type": "markdown",
   "metadata": {
    "id": "5D9C0VFQbsUk"
   },
   "source": [
    "from google.colab import drive\r\n",
    "drive.mount('/content/drive/')"
   ]
  },
  {
   "cell_type": "code",
   "execution_count": 2,
   "metadata": {
    "executionInfo": {
     "elapsed": 2344,
     "status": "ok",
     "timestamp": 1615322817801,
     "user": {
      "displayName": "Robyn Korolnek",
      "photoUrl": "",
      "userId": "16134780550472158874"
     },
     "user_tz": 300
    },
    "id": "CIoNzRhOjOdk"
   },
   "outputs": [],
   "source": [
    "import pandas as pd\r\n",
    "import os\r\n",
    "import csv\r\n",
    "import numpy as np\r\n",
    "import tensorflow as tf\r\n",
    "from tensorflow.keras import Sequential, layers, optimizers\r\n",
    "from tensorflow.keras.callbacks import EarlyStopping\r\n",
    "from tensorflow.keras.preprocessing.sequence import pad_sequences"
   ]
  },
  {
   "cell_type": "code",
   "execution_count": 3,
   "metadata": {
    "colab": {
     "base_uri": "https://localhost:8080/"
    },
    "executionInfo": {
     "elapsed": 2345,
     "status": "ok",
     "timestamp": 1615322817807,
     "user": {
      "displayName": "Robyn Korolnek",
      "photoUrl": "",
      "userId": "16134780550472158874"
     },
     "user_tz": 300
    },
    "id": "uXKbqtBAsdRf",
    "outputId": "35ff4624-e115-4e1c-f685-85d2ff5f2de2"
   },
   "outputs": [
    {
     "name": "stdout",
     "output_type": "stream",
     "text": [
      "Found 65 CSVs in /content/drive/MyDrive/Squat_Pro/Out_Feature_CSVs/Train/Bad Directory\n",
      "Found 65 CSVs in /content/drive/MyDrive/Squat_Pro/Out_Feature_CSVs/Train/Good Directory\n",
      "Number of csvs : 130\n",
      "Number of Labels : 130\n",
      "Found 17 CSVs in /content/drive/MyDrive/Squat_Pro/Out_Feature_CSVs/Test/Bad Directory\n",
      "Found 17 CSVs in /content/drive/MyDrive/Squat_Pro/Out_Feature_CSVs/Test/Good Directory\n",
      "Number of csvs : 34\n",
      "Number of Labels : 34\n"
     ]
    }
   ],
   "source": [
    "ROOT_DATA_DIR = '/content/drive/MyDrive/Squat_Pro/Out_Feature_CSVs'\r\n",
    "#ROOT_DATA_DIR = '../raw_data/Out_Feature_CSVs'\r\n",
    "DATA_SUB_DIRs = [\"Train\", \"Test\"]\r\n",
    "CLS_LIST = [\"Bad\", \"Good\"]\r\n",
    "\r\n",
    "def get_y(data_path, class_list):\r\n",
    "    \r\n",
    "    data_dict = {\"csv_paths\":[], \"csv_files\":[], \"labels\":[]}\r\n",
    "    for i, clss in enumerate(class_list):\r\n",
    "        dir_path = os.path.join(data_path, clss)\r\n",
    "        list_csvs = [l for l in os.listdir(dir_path) if l.split(\".\")[-1]==\"csv\"]\r\n",
    "        print(f\"Found {len(list_csvs)} CSVs in {dir_path} Directory\")\r\n",
    "        data_dict[\"csv_files\"].extend(list_csvs)\r\n",
    "        data_dict[\"labels\"].extend([i for k in range(len(list_csvs))])\r\n",
    "        data_dict[\"csv_paths\"].extend([dir_path for _ in range(len(list_csvs))])\r\n",
    "    total_csvs = len(data_dict[\"csv_files\"])\r\n",
    "    total_labels = len(data_dict[\"labels\"])\r\n",
    "    print(f\"Number of csvs : {total_csvs}\")\r\n",
    "    print(f\"Number of Labels : {total_labels}\")\r\n",
    "    return data_dict\r\n",
    "\r\n",
    "train_data = pd.DataFrame(get_y(data_path=os.path.join(ROOT_DATA_DIR, DATA_SUB_DIRs[0]),\r\n",
    "                               class_list=CLS_LIST))\r\n",
    "\r\n",
    "\r\n",
    "test_data = pd.DataFrame(get_y(data_path=os.path.join(ROOT_DATA_DIR, DATA_SUB_DIRs[1]),\r\n",
    "                               class_list=CLS_LIST))  "
   ]
  },
  {
   "cell_type": "code",
   "execution_count": 4,
   "metadata": {
    "colab": {
     "base_uri": "https://localhost:8080/",
     "height": 204
    },
    "executionInfo": {
     "elapsed": 2339,
     "status": "ok",
     "timestamp": 1615322817808,
     "user": {
      "displayName": "Robyn Korolnek",
      "photoUrl": "",
      "userId": "16134780550472158874"
     },
     "user_tz": 300
    },
    "id": "Xb3itu3ouZJs",
    "outputId": "52ade64a-0713-4b47-8dbf-a46db736b6ff"
   },
   "outputs": [
    {
     "data": {
      "text/html": [
       "<div>\n",
       "<style scoped>\n",
       "    .dataframe tbody tr th:only-of-type {\n",
       "        vertical-align: middle;\n",
       "    }\n",
       "\n",
       "    .dataframe tbody tr th {\n",
       "        vertical-align: top;\n",
       "    }\n",
       "\n",
       "    .dataframe thead th {\n",
       "        text-align: right;\n",
       "    }\n",
       "</style>\n",
       "<table border=\"1\" class=\"dataframe\">\n",
       "  <thead>\n",
       "    <tr style=\"text-align: right;\">\n",
       "      <th></th>\n",
       "      <th>csv_paths</th>\n",
       "      <th>csv_files</th>\n",
       "      <th>labels</th>\n",
       "    </tr>\n",
       "  </thead>\n",
       "  <tbody>\n",
       "    <tr>\n",
       "      <th>0</th>\n",
       "      <td>/content/drive/MyDrive/Squat_Pro/Out_Feature_C...</td>\n",
       "      <td>IMG_9451_02.csv</td>\n",
       "      <td>0</td>\n",
       "    </tr>\n",
       "    <tr>\n",
       "      <th>1</th>\n",
       "      <td>/content/drive/MyDrive/Squat_Pro/Out_Feature_C...</td>\n",
       "      <td>IMG_9362_03.csv</td>\n",
       "      <td>0</td>\n",
       "    </tr>\n",
       "    <tr>\n",
       "      <th>2</th>\n",
       "      <td>/content/drive/MyDrive/Squat_Pro/Out_Feature_C...</td>\n",
       "      <td>IMG_9365_01.csv</td>\n",
       "      <td>0</td>\n",
       "    </tr>\n",
       "    <tr>\n",
       "      <th>3</th>\n",
       "      <td>/content/drive/MyDrive/Squat_Pro/Out_Feature_C...</td>\n",
       "      <td>63.csv</td>\n",
       "      <td>0</td>\n",
       "    </tr>\n",
       "    <tr>\n",
       "      <th>4</th>\n",
       "      <td>/content/drive/MyDrive/Squat_Pro/Out_Feature_C...</td>\n",
       "      <td>IMG_9347_02.csv</td>\n",
       "      <td>0</td>\n",
       "    </tr>\n",
       "  </tbody>\n",
       "</table>\n",
       "</div>"
      ],
      "text/plain": [
       "                                           csv_paths        csv_files  labels\n",
       "0  /content/drive/MyDrive/Squat_Pro/Out_Feature_C...  IMG_9451_02.csv       0\n",
       "1  /content/drive/MyDrive/Squat_Pro/Out_Feature_C...  IMG_9362_03.csv       0\n",
       "2  /content/drive/MyDrive/Squat_Pro/Out_Feature_C...  IMG_9365_01.csv       0\n",
       "3  /content/drive/MyDrive/Squat_Pro/Out_Feature_C...           63.csv       0\n",
       "4  /content/drive/MyDrive/Squat_Pro/Out_Feature_C...  IMG_9347_02.csv       0"
      ]
     },
     "execution_count": 4,
     "metadata": {
      "tags": []
     },
     "output_type": "execute_result"
    }
   ],
   "source": [
    "train_data.head()"
   ]
  },
  {
   "cell_type": "code",
   "execution_count": 5,
   "metadata": {
    "executionInfo": {
     "elapsed": 2333,
     "status": "ok",
     "timestamp": 1615322817809,
     "user": {
      "displayName": "Robyn Korolnek",
      "photoUrl": "",
      "userId": "16134780550472158874"
     },
     "user_tz": 300
    },
    "id": "ajCL_Xruuzjd"
   },
   "outputs": [],
   "source": [
    "#create y_train and y_test as float64 type\r\n",
    "y_train = train_data['labels']/1.0\r\n",
    "y_test = test_data['labels']/1.0"
   ]
  },
  {
   "cell_type": "code",
   "execution_count": 6,
   "metadata": {
    "executionInfo": {
     "elapsed": 2464,
     "status": "ok",
     "timestamp": 1615322817943,
     "user": {
      "displayName": "Robyn Korolnek",
      "photoUrl": "",
      "userId": "16134780550472158874"
     },
     "user_tz": 300
    },
    "id": "qevqvHW5K8jA"
   },
   "outputs": [],
   "source": [
    "def csv_to_list_of_lists(csv_path):\r\n",
    "    df = pd.read_csv(csv_path)\r\n",
    "    df.fillna(0, inplace=True)\r\n",
    "    list_of_lists = df.iloc[:,1:].values.tolist()\r\n",
    "    return list_of_lists\r\n",
    "\r\n",
    "def get_x(dataframe):\r\n",
    "  list_of_csv_files = [os.path.join(row['csv_paths'], row[\"csv_files\"]) for index, row in dataframe.iterrows()]\r\n",
    "  X_list = [csv_to_list_of_lists(f) for f in list_of_csv_files]\r\n",
    "  return X_list"
   ]
  },
  {
   "cell_type": "code",
   "execution_count": 7,
   "metadata": {
    "executionInfo": {
     "elapsed": 29293,
     "status": "ok",
     "timestamp": 1615322844776,
     "user": {
      "displayName": "Robyn Korolnek",
      "photoUrl": "",
      "userId": "16134780550472158874"
     },
     "user_tz": 300
    },
    "id": "NT_pYhAMOpA9"
   },
   "outputs": [],
   "source": [
    "#create X_train and X_test\r\n",
    "X_train = get_x(train_data)\r\n",
    "X_test = get_x(test_data)"
   ]
  },
  {
   "cell_type": "code",
   "execution_count": 8,
   "metadata": {
    "colab": {
     "base_uri": "https://localhost:8080/"
    },
    "executionInfo": {
     "elapsed": 30462,
     "status": "ok",
     "timestamp": 1615322845953,
     "user": {
      "displayName": "Robyn Korolnek",
      "photoUrl": "",
      "userId": "16134780550472158874"
     },
     "user_tz": 300
    },
    "id": "it7tjkH-QRPy",
    "outputId": "a0734a07-dc08-4eda-9e36-4c4b399741ed"
   },
   "outputs": [
    {
     "name": "stdout",
     "output_type": "stream",
     "text": [
      "(130, 175, 2048)\n",
      "(34, 175, 2048)\n"
     ]
    }
   ],
   "source": [
    "#pad X_train so all arrays are of the same shape\r\n",
    "X_train_pad = pad_sequences(X_train, dtype='float32', padding='post', value=-1000)\r\n",
    "print(X_train_pad.shape)\r\n",
    "\r\n",
    "#pad X_test so all arrays are of the same shape\r\n",
    "X_test_pad = pad_sequences(X_test, dtype='float32', padding='post', value=-1000, maxlen=X_train_pad.shape[1])\r\n",
    "print(X_test_pad.shape)"
   ]
  },
  {
   "cell_type": "markdown",
   "metadata": {
    "id": "VA-wgTFvXD3u"
   },
   "source": [
    "#LSTM_Model5 - Learning Rate and many layers\r\n",
    "#New\r\n",
    "#1\r\n",
    "#[0.6656529307365417, 0.5444444417953491]\r\n",
    "#[0.7044618129730225, 0.5]\r\n",
    "#2\r\n",
    "#[0.8229615688323975, 0.5444444417953491]\r\n",
    "#[0.8788918256759644, 0.5]\r\n",
    "#3\r\n",
    "#\r\n",
    "#\r\n",
    "\r\n",
    "#Old\r\n",
    "#1\r\n",
    "#[0.7743281126022339, 0.6499999761581421]\r\n",
    "#[0.7172174453735352, 0.6499999761581421]\r\n",
    "#2\r\n",
    "#[0.814126193523407, 0.5375000238418579]\r\n",
    "#[0.8420926928520203, 0.5]\r\n",
    "#3\r\n",
    "#[0.5910772085189819, 0.6499999761581421]\r\n",
    "#[0.5311039686203003, 0.699999988079071]\r\n",
    "\r\n",
    "model_LSTM = Sequential()\r\n",
    "\r\n",
    "model_LSTM.add(layers.Masking(mask_value=-1000))\r\n",
    "\r\n",
    "model_LSTM.add(layers.LSTM(200, activation='tanh', return_sequences=True))\r\n",
    "model_LSTM.add(layers.LSTM(150, activation='tanh'))\r\n",
    "model_LSTM.add(layers.Dense(125, activation='relu'))\r\n",
    "model_LSTM.add(layers.Dense(100, activation='relu'))\r\n",
    "model_LSTM.add(layers.Dense(75, activation='relu'))\r\n",
    "model_LSTM.add(layers.Dense(60, activation='relu'))\r\n",
    "model_LSTM.add(layers.Dense(40, activation='relu'))\r\n",
    "model_LSTM.add(layers.Dense(25, activation='relu'))    \r\n",
    "model_LSTM.add(layers.Dense(10, activation='relu'))\r\n",
    "model_LSTM.add(layers.Dense(1, activation='sigmoid'))\r\n",
    "\r\n",
    "opt = optimizers.RMSprop(learning_rate=0.003)\r\n",
    "\r\n",
    "model_LSTM.compile(loss='binary_crossentropy', optimizer=opt, metrics=['accuracy'])"
   ]
  },
  {
   "cell_type": "code",
   "execution_count": 9,
   "metadata": {
    "executionInfo": {
     "elapsed": 32766,
     "status": "ok",
     "timestamp": 1615322848259,
     "user": {
      "displayName": "Robyn Korolnek",
      "photoUrl": "",
      "userId": "16134780550472158874"
     },
     "user_tz": 300
    },
    "id": "6vDERJ8ur87s"
   },
   "outputs": [],
   "source": [
    "#LSTM_Model_March_8_1 (Binary_accuracy)\r\n",
    "#1\r\n",
    "#[0.31917595863342285, 0.9769230484962463]\r\n",
    "#[2.2517054080963135, 0.8529411554336548]\r\n",
    "#2\r\n",
    "\r\n",
    "\r\n",
    "def build_model(input_shape):\r\n",
    "\r\n",
    "  model_LSTM = Sequential()\r\n",
    "\r\n",
    "  model_LSTM.add(layers.Masking(mask_value=-1000, input_shape=input_shape))\r\n",
    "  model_LSTM.add(layers.LSTM(64, activation='tanh', return_sequences=True))\r\n",
    "  model_LSTM.add(layers.Dropout(0.2))\r\n",
    "  model_LSTM.add(layers.LSTM(32, activation='tanh'))\r\n",
    "  model_LSTM.add(layers.Dense(8, activation='relu'))\r\n",
    "  model_LSTM.add(layers.Dense(4, activation='relu'))\r\n",
    "  model_LSTM.add(layers.Dense(1, activation='sigmoid'))\r\n",
    "\r\n",
    "  model_LSTM.compile(loss='binary_crossentropy', optimizer='rmsprop', metrics=[tf.keras.metrics.BinaryAccuracy()])\r\n",
    "  return model_LSTM\r\n",
    "\r\n",
    "  print(model_LSTM.summary())\r\n",
    "\r\n",
    "model = build_model(input_shape=(X_train_pad.shape[1], X_train_pad.shape[2]))"
   ]
  },
  {
   "cell_type": "markdown",
   "metadata": {
    "id": "s-B1_l0EWBLj"
   },
   "source": [
    "#LSTM_Model_March_8 (Binary_accuracy)\r\n",
    "#NEW\r\n",
    "50/50\r\n",
    "\r\n",
    "\r\n",
    "#1\r\n",
    "#[0.1920861303806305, 0.9666666388511658]\r\n",
    "#[2.4868457317352295, 0.6153846383094788]\r\n",
    "#2\r\n",
    "#[0.18366536498069763, 0.9888888597488403]\r\n",
    "#[8.832551956176758, 0.4615384638309479]\r\n",
    "\r\n",
    "#1\r\n",
    "#[0.12227339297533035, 0.9777777791023254]\r\n",
    "#[1.6843267679214478, 0.6538461446762085]\r\n",
    "\r\n",
    "#2\r\n",
    "#[0.7209763526916504, 0.800000011920929]\r\n",
    "#[2.0451595783233643, 0.6538461446762085]\r\n",
    "\r\n",
    "#3\r\n",
    "#[0.27486875653266907, 0.9555555582046509]\r\n",
    "#[3.1554067134857178, 0.5]\r\n",
    "\r\n",
    "\r\n",
    "def build_model(input_shape):\r\n",
    "\r\n",
    "  model_LSTM = Sequential()\r\n",
    "\r\n",
    "  model_LSTM.add(layers.Masking(mask_value=-1000, input_shape=input_shape))\r\n",
    "  model_LSTM.add(layers.LSTM(32, activation='tanh', return_sequences=True))\r\n",
    "  model_LSTM.add(layers.LSTM(16, activation='tanh'))\r\n",
    "  model_LSTM.add(layers.Dense(8, activation='relu'))\r\n",
    "  model_LSTM.add(layers.Dense(4, activation='relu'))\r\n",
    "  model_LSTM.add(layers.Dense(1, activation='sigmoid'))\r\n",
    "\r\n",
    "  model_LSTM.compile(loss='binary_crossentropy', optimizer='rmsprop', metrics=[tf.keras.metrics.BinaryAccuracy()])\r\n",
    "  return model_LSTM\r\n",
    "\r\n",
    "  print(model_LSTM.summary())\r\n",
    "\r\n",
    "model = build_model(input_shape=(X_train_pad.shape[1], X_train_pad.shape[2]))"
   ]
  },
  {
   "cell_type": "markdown",
   "metadata": {
    "id": "4mp_5Q_YhjYP"
   },
   "source": [
    "#Fitting the model to the train set\r\n",
    "es = EarlyStopping(patience=15)\r\n",
    "\r\n",
    "model_LSTM.fit(X_train_pad, y_train, \r\n",
    "              epochs=175, \r\n",
    "              batch_size=32, \r\n",
    "              verbose=1, \r\n",
    "              callbacks = [es],\r\n",
    "              validation_split=0.2,\r\n",
    "              shuffle=True)"
   ]
  },
  {
   "cell_type": "code",
   "execution_count": 10,
   "metadata": {
    "colab": {
     "base_uri": "https://localhost:8080/"
    },
    "executionInfo": {
     "elapsed": 692938,
     "status": "ok",
     "timestamp": 1615323508436,
     "user": {
      "displayName": "Robyn Korolnek",
      "photoUrl": "",
      "userId": "16134780550472158874"
     },
     "user_tz": 300
    },
    "id": "MOGGG2hopJuk",
    "outputId": "2794a3bb-a788-44f7-c75c-b1fbc67df64f"
   },
   "outputs": [
    {
     "name": "stdout",
     "output_type": "stream",
     "text": [
      "Epoch 1/1750\n",
      "13/13 [==============================] - 12s 502ms/step - loss: 0.6764 - binary_accuracy: 0.5739 - val_loss: 1.0499 - val_binary_accuracy: 0.0000e+00\n",
      "Epoch 2/1750\n",
      "13/13 [==============================] - 4s 300ms/step - loss: 0.6421 - binary_accuracy: 0.6731 - val_loss: 1.1162 - val_binary_accuracy: 0.0769\n",
      "Epoch 3/1750\n",
      "13/13 [==============================] - 4s 293ms/step - loss: 0.6434 - binary_accuracy: 0.6808 - val_loss: 1.0316 - val_binary_accuracy: 0.0769\n",
      "Epoch 4/1750\n",
      "13/13 [==============================] - 4s 290ms/step - loss: 0.6662 - binary_accuracy: 0.6214 - val_loss: 1.0305 - val_binary_accuracy: 0.0769\n",
      "Epoch 5/1750\n",
      "13/13 [==============================] - 4s 289ms/step - loss: 0.6196 - binary_accuracy: 0.6900 - val_loss: 0.9954 - val_binary_accuracy: 0.0769\n",
      "Epoch 6/1750\n",
      "13/13 [==============================] - 4s 294ms/step - loss: 0.6320 - binary_accuracy: 0.6662 - val_loss: 1.0119 - val_binary_accuracy: 0.0769\n",
      "Epoch 7/1750\n",
      "13/13 [==============================] - 4s 299ms/step - loss: 0.6620 - binary_accuracy: 0.6101 - val_loss: 0.8524 - val_binary_accuracy: 0.0769\n",
      "Epoch 8/1750\n",
      "13/13 [==============================] - 4s 299ms/step - loss: 0.6200 - binary_accuracy: 0.6763 - val_loss: 0.9522 - val_binary_accuracy: 0.0769\n",
      "Epoch 9/1750\n",
      "13/13 [==============================] - 4s 301ms/step - loss: 0.6140 - binary_accuracy: 0.7094 - val_loss: 1.1256 - val_binary_accuracy: 0.0769\n",
      "Epoch 10/1750\n",
      "13/13 [==============================] - 4s 305ms/step - loss: 0.6016 - binary_accuracy: 0.7051 - val_loss: 0.6926 - val_binary_accuracy: 0.5769\n",
      "Epoch 11/1750\n",
      "13/13 [==============================] - 4s 302ms/step - loss: 0.6377 - binary_accuracy: 0.6574 - val_loss: 0.9315 - val_binary_accuracy: 0.2692\n",
      "Epoch 12/1750\n",
      "13/13 [==============================] - 4s 305ms/step - loss: 0.5436 - binary_accuracy: 0.7621 - val_loss: 0.9491 - val_binary_accuracy: 0.3462\n",
      "Epoch 13/1750\n",
      "13/13 [==============================] - 4s 295ms/step - loss: 0.5203 - binary_accuracy: 0.7892 - val_loss: 0.8781 - val_binary_accuracy: 0.4615\n",
      "Epoch 14/1750\n",
      "13/13 [==============================] - 4s 302ms/step - loss: 0.5590 - binary_accuracy: 0.7558 - val_loss: 1.0899 - val_binary_accuracy: 0.2692\n",
      "Epoch 15/1750\n",
      "13/13 [==============================] - 4s 300ms/step - loss: 0.4349 - binary_accuracy: 0.8574 - val_loss: 0.9140 - val_binary_accuracy: 0.3846\n",
      "Epoch 16/1750\n",
      "13/13 [==============================] - 4s 298ms/step - loss: 0.4719 - binary_accuracy: 0.8012 - val_loss: 1.0387 - val_binary_accuracy: 0.3846\n",
      "Epoch 17/1750\n",
      "13/13 [==============================] - 4s 301ms/step - loss: 0.3651 - binary_accuracy: 0.8960 - val_loss: 1.2101 - val_binary_accuracy: 0.4231\n",
      "Epoch 18/1750\n",
      "13/13 [==============================] - 4s 291ms/step - loss: 0.3860 - binary_accuracy: 0.8735 - val_loss: 1.2466 - val_binary_accuracy: 0.3846\n",
      "Epoch 19/1750\n",
      "13/13 [==============================] - 4s 291ms/step - loss: 0.4349 - binary_accuracy: 0.8186 - val_loss: 1.2023 - val_binary_accuracy: 0.4231\n",
      "Epoch 20/1750\n",
      "13/13 [==============================] - 4s 297ms/step - loss: 0.3791 - binary_accuracy: 0.8446 - val_loss: 0.9362 - val_binary_accuracy: 0.5769\n",
      "Epoch 21/1750\n",
      "13/13 [==============================] - 4s 304ms/step - loss: 0.5512 - binary_accuracy: 0.7704 - val_loss: 0.6205 - val_binary_accuracy: 0.6154\n",
      "Epoch 22/1750\n",
      "13/13 [==============================] - 4s 295ms/step - loss: 0.4263 - binary_accuracy: 0.8099 - val_loss: 1.3714 - val_binary_accuracy: 0.3462\n",
      "Epoch 23/1750\n",
      "13/13 [==============================] - 4s 302ms/step - loss: 0.3802 - binary_accuracy: 0.8346 - val_loss: 1.2149 - val_binary_accuracy: 0.4231\n",
      "Epoch 24/1750\n",
      "13/13 [==============================] - 4s 307ms/step - loss: 0.4024 - binary_accuracy: 0.8585 - val_loss: 1.1791 - val_binary_accuracy: 0.4231\n",
      "Epoch 25/1750\n",
      "13/13 [==============================] - 4s 306ms/step - loss: 0.4783 - binary_accuracy: 0.7848 - val_loss: 1.0087 - val_binary_accuracy: 0.4615\n",
      "Epoch 26/1750\n",
      "13/13 [==============================] - 4s 307ms/step - loss: 0.3213 - binary_accuracy: 0.9025 - val_loss: 1.1952 - val_binary_accuracy: 0.4231\n",
      "Epoch 27/1750\n",
      "13/13 [==============================] - 4s 301ms/step - loss: 0.4231 - binary_accuracy: 0.8184 - val_loss: 1.0738 - val_binary_accuracy: 0.5000\n",
      "Epoch 28/1750\n",
      "13/13 [==============================] - 4s 298ms/step - loss: 0.4425 - binary_accuracy: 0.8200 - val_loss: 1.0798 - val_binary_accuracy: 0.5000\n",
      "Epoch 29/1750\n",
      "13/13 [==============================] - 4s 290ms/step - loss: 0.3577 - binary_accuracy: 0.8575 - val_loss: 1.8920 - val_binary_accuracy: 0.0769\n",
      "Epoch 30/1750\n",
      "13/13 [==============================] - 4s 296ms/step - loss: 0.4291 - binary_accuracy: 0.8134 - val_loss: 0.4693 - val_binary_accuracy: 0.8077\n",
      "Epoch 31/1750\n",
      "13/13 [==============================] - 4s 296ms/step - loss: 0.3778 - binary_accuracy: 0.8492 - val_loss: 1.2781 - val_binary_accuracy: 0.3846\n",
      "Epoch 32/1750\n",
      "13/13 [==============================] - 4s 301ms/step - loss: 0.3219 - binary_accuracy: 0.8669 - val_loss: 0.9509 - val_binary_accuracy: 0.5385\n",
      "Epoch 33/1750\n",
      "13/13 [==============================] - 4s 289ms/step - loss: 0.3752 - binary_accuracy: 0.8327 - val_loss: 1.0473 - val_binary_accuracy: 0.5000\n",
      "Epoch 34/1750\n",
      "13/13 [==============================] - 4s 302ms/step - loss: 0.1702 - binary_accuracy: 0.9580 - val_loss: 0.9236 - val_binary_accuracy: 0.5000\n",
      "Epoch 35/1750\n",
      "13/13 [==============================] - 4s 296ms/step - loss: 0.2735 - binary_accuracy: 0.8414 - val_loss: 1.3377 - val_binary_accuracy: 0.5000\n",
      "Epoch 36/1750\n",
      "13/13 [==============================] - 4s 299ms/step - loss: 0.2745 - binary_accuracy: 0.8977 - val_loss: 2.1174 - val_binary_accuracy: 0.3077\n",
      "Epoch 37/1750\n",
      "13/13 [==============================] - 4s 310ms/step - loss: 0.4364 - binary_accuracy: 0.8034 - val_loss: 0.6794 - val_binary_accuracy: 0.7308\n",
      "Epoch 38/1750\n",
      "13/13 [==============================] - 4s 304ms/step - loss: 0.2806 - binary_accuracy: 0.8655 - val_loss: 0.4948 - val_binary_accuracy: 0.8462\n",
      "Epoch 39/1750\n",
      "13/13 [==============================] - 4s 309ms/step - loss: 0.1853 - binary_accuracy: 0.9249 - val_loss: 0.4399 - val_binary_accuracy: 0.7692\n",
      "Epoch 40/1750\n",
      "13/13 [==============================] - 4s 314ms/step - loss: 0.2581 - binary_accuracy: 0.9028 - val_loss: 0.4653 - val_binary_accuracy: 0.8462\n",
      "Epoch 41/1750\n",
      "13/13 [==============================] - 4s 305ms/step - loss: 0.1538 - binary_accuracy: 0.9443 - val_loss: 0.4884 - val_binary_accuracy: 0.8077\n",
      "Epoch 42/1750\n",
      "13/13 [==============================] - 4s 306ms/step - loss: 0.1421 - binary_accuracy: 0.9601 - val_loss: 0.5430 - val_binary_accuracy: 0.8077\n",
      "Epoch 43/1750\n",
      "13/13 [==============================] - 4s 301ms/step - loss: 0.0701 - binary_accuracy: 0.9864 - val_loss: 2.1258 - val_binary_accuracy: 0.2308\n",
      "Epoch 44/1750\n",
      "13/13 [==============================] - 4s 305ms/step - loss: 0.2953 - binary_accuracy: 0.8942 - val_loss: 0.6386 - val_binary_accuracy: 0.8077\n",
      "Epoch 45/1750\n",
      "13/13 [==============================] - 4s 299ms/step - loss: 0.0917 - binary_accuracy: 0.9801 - val_loss: 0.5282 - val_binary_accuracy: 0.8462\n",
      "Epoch 46/1750\n",
      "13/13 [==============================] - 4s 302ms/step - loss: 0.1671 - binary_accuracy: 0.9511 - val_loss: 0.9696 - val_binary_accuracy: 0.6154\n",
      "Epoch 47/1750\n",
      "13/13 [==============================] - 4s 310ms/step - loss: 0.1608 - binary_accuracy: 0.9615 - val_loss: 1.4332 - val_binary_accuracy: 0.3846\n",
      "Epoch 48/1750\n",
      "13/13 [==============================] - 4s 302ms/step - loss: 0.1094 - binary_accuracy: 0.9621 - val_loss: 0.5009 - val_binary_accuracy: 0.8462\n",
      "Epoch 49/1750\n",
      "13/13 [==============================] - 4s 306ms/step - loss: 0.1224 - binary_accuracy: 0.9709 - val_loss: 0.3078 - val_binary_accuracy: 0.8462\n",
      "Epoch 50/1750\n",
      "13/13 [==============================] - 4s 299ms/step - loss: 0.1202 - binary_accuracy: 0.9582 - val_loss: 1.4220 - val_binary_accuracy: 0.6154\n",
      "Epoch 51/1750\n",
      "13/13 [==============================] - 4s 300ms/step - loss: 0.2139 - binary_accuracy: 0.9200 - val_loss: 0.6869 - val_binary_accuracy: 0.7692\n",
      "Epoch 52/1750\n",
      "13/13 [==============================] - 4s 300ms/step - loss: 0.0437 - binary_accuracy: 0.9962 - val_loss: 0.6647 - val_binary_accuracy: 0.8077\n",
      "Epoch 53/1750\n",
      "13/13 [==============================] - 4s 305ms/step - loss: 0.0354 - binary_accuracy: 0.9962 - val_loss: 0.7379 - val_binary_accuracy: 0.8077\n",
      "Epoch 54/1750\n",
      "13/13 [==============================] - 4s 318ms/step - loss: 0.1080 - binary_accuracy: 0.9768 - val_loss: 0.2804 - val_binary_accuracy: 0.8846\n",
      "Epoch 55/1750\n",
      "13/13 [==============================] - 4s 319ms/step - loss: 0.0622 - binary_accuracy: 0.9928 - val_loss: 1.8222 - val_binary_accuracy: 0.5000\n",
      "Epoch 56/1750\n",
      "13/13 [==============================] - 4s 316ms/step - loss: 0.5628 - binary_accuracy: 0.8390 - val_loss: 0.2188 - val_binary_accuracy: 0.8846\n",
      "Epoch 57/1750\n",
      "13/13 [==============================] - 4s 322ms/step - loss: 0.0467 - binary_accuracy: 0.9941 - val_loss: 0.5069 - val_binary_accuracy: 0.8462\n",
      "Epoch 58/1750\n",
      "13/13 [==============================] - 4s 326ms/step - loss: 0.0439 - binary_accuracy: 0.9928 - val_loss: 0.0841 - val_binary_accuracy: 0.9615\n",
      "Epoch 59/1750\n",
      "13/13 [==============================] - 4s 316ms/step - loss: 0.4291 - binary_accuracy: 0.8714 - val_loss: 0.4270 - val_binary_accuracy: 0.8462\n",
      "Epoch 60/1750\n",
      "13/13 [==============================] - 4s 322ms/step - loss: 0.1191 - binary_accuracy: 0.9709 - val_loss: 0.7327 - val_binary_accuracy: 0.7308\n",
      "Epoch 61/1750\n",
      "13/13 [==============================] - 4s 320ms/step - loss: 0.0799 - binary_accuracy: 0.9843 - val_loss: 0.5011 - val_binary_accuracy: 0.8077\n",
      "Epoch 62/1750\n",
      "13/13 [==============================] - 4s 315ms/step - loss: 0.0768 - binary_accuracy: 0.9847 - val_loss: 1.2108 - val_binary_accuracy: 0.6538\n",
      "Epoch 63/1750\n",
      "13/13 [==============================] - 4s 308ms/step - loss: 0.0184 - binary_accuracy: 0.9986 - val_loss: 0.0184 - val_binary_accuracy: 1.0000\n",
      "Epoch 64/1750\n",
      "13/13 [==============================] - 4s 315ms/step - loss: 0.3877 - binary_accuracy: 0.8811 - val_loss: 0.8158 - val_binary_accuracy: 0.7308\n",
      "Epoch 65/1750\n",
      "13/13 [==============================] - 4s 311ms/step - loss: 0.1463 - binary_accuracy: 0.9709 - val_loss: 0.6758 - val_binary_accuracy: 0.7692\n",
      "Epoch 66/1750\n",
      "13/13 [==============================] - 4s 312ms/step - loss: 0.0207 - binary_accuracy: 0.9986 - val_loss: 0.2246 - val_binary_accuracy: 0.9231\n",
      "Epoch 67/1750\n",
      "13/13 [==============================] - 4s 307ms/step - loss: 0.4643 - binary_accuracy: 0.8522 - val_loss: 0.2926 - val_binary_accuracy: 0.8462\n",
      "Epoch 68/1750\n",
      "13/13 [==============================] - 4s 308ms/step - loss: 0.0319 - binary_accuracy: 0.9965 - val_loss: 2.1210 - val_binary_accuracy: 0.3462\n",
      "Epoch 69/1750\n",
      "13/13 [==============================] - 4s 306ms/step - loss: 0.1980 - binary_accuracy: 0.9188 - val_loss: 0.5313 - val_binary_accuracy: 0.8077\n",
      "Epoch 70/1750\n",
      "13/13 [==============================] - 4s 308ms/step - loss: 0.2981 - binary_accuracy: 0.9151 - val_loss: 0.2251 - val_binary_accuracy: 0.8846\n",
      "Epoch 71/1750\n",
      "13/13 [==============================] - 4s 318ms/step - loss: 0.1703 - binary_accuracy: 0.9353 - val_loss: 0.0711 - val_binary_accuracy: 0.9615\n",
      "Epoch 72/1750\n",
      "13/13 [==============================] - 4s 316ms/step - loss: 0.0319 - binary_accuracy: 0.9986 - val_loss: 0.0118 - val_binary_accuracy: 1.0000\n",
      "Epoch 73/1750\n",
      "13/13 [==============================] - 4s 319ms/step - loss: 0.1842 - binary_accuracy: 0.9030 - val_loss: 0.2186 - val_binary_accuracy: 0.8462\n",
      "Epoch 74/1750\n",
      "13/13 [==============================] - 4s 312ms/step - loss: 0.0499 - binary_accuracy: 0.9892 - val_loss: 2.6822 - val_binary_accuracy: 0.3462\n",
      "Epoch 75/1750\n",
      "13/13 [==============================] - 4s 320ms/step - loss: 0.1633 - binary_accuracy: 0.9709 - val_loss: 0.1414 - val_binary_accuracy: 0.9231\n",
      "Epoch 76/1750\n",
      "13/13 [==============================] - 4s 320ms/step - loss: 0.2648 - binary_accuracy: 0.9061 - val_loss: 0.4222 - val_binary_accuracy: 0.8462\n",
      "Epoch 77/1750\n",
      "13/13 [==============================] - 4s 324ms/step - loss: 0.1174 - binary_accuracy: 0.9631 - val_loss: 0.9287 - val_binary_accuracy: 0.6923\n",
      "Epoch 78/1750\n",
      "13/13 [==============================] - 4s 324ms/step - loss: 0.0279 - binary_accuracy: 1.0000 - val_loss: 1.8993 - val_binary_accuracy: 0.3846\n",
      "Epoch 79/1750\n",
      "13/13 [==============================] - 4s 318ms/step - loss: 0.1221 - binary_accuracy: 0.9508 - val_loss: 0.3494 - val_binary_accuracy: 0.8846\n",
      "Epoch 80/1750\n",
      "13/13 [==============================] - 4s 314ms/step - loss: 0.0100 - binary_accuracy: 1.0000 - val_loss: 0.7526 - val_binary_accuracy: 0.8462\n",
      "Epoch 81/1750\n",
      "13/13 [==============================] - 4s 321ms/step - loss: 0.1929 - binary_accuracy: 0.9499 - val_loss: 0.8156 - val_binary_accuracy: 0.7308\n",
      "Epoch 82/1750\n",
      "13/13 [==============================] - 4s 326ms/step - loss: 0.0745 - binary_accuracy: 0.9657 - val_loss: 0.7112 - val_binary_accuracy: 0.8077\n",
      "Epoch 83/1750\n",
      "13/13 [==============================] - 4s 323ms/step - loss: 0.0175 - binary_accuracy: 0.9962 - val_loss: 0.8333 - val_binary_accuracy: 0.7308\n",
      "Epoch 84/1750\n",
      "13/13 [==============================] - 4s 331ms/step - loss: 0.0104 - binary_accuracy: 1.0000 - val_loss: 0.7714 - val_binary_accuracy: 0.7692\n",
      "Epoch 85/1750\n",
      "13/13 [==============================] - 4s 326ms/step - loss: 0.0719 - binary_accuracy: 0.9815 - val_loss: 1.3253 - val_binary_accuracy: 0.6923\n",
      "Epoch 86/1750\n",
      "13/13 [==============================] - 4s 321ms/step - loss: 0.0201 - binary_accuracy: 0.9965 - val_loss: 1.2419 - val_binary_accuracy: 0.6923\n",
      "Epoch 87/1750\n",
      "13/13 [==============================] - 4s 323ms/step - loss: 0.0232 - binary_accuracy: 0.9971 - val_loss: 0.7481 - val_binary_accuracy: 0.7692\n",
      "Epoch 88/1750\n",
      "13/13 [==============================] - 4s 321ms/step - loss: 0.0611 - binary_accuracy: 0.9612 - val_loss: 0.1021 - val_binary_accuracy: 0.9615\n",
      "Epoch 89/1750\n",
      "13/13 [==============================] - 4s 320ms/step - loss: 0.1592 - binary_accuracy: 0.9493 - val_loss: 0.0340 - val_binary_accuracy: 1.0000\n",
      "Epoch 90/1750\n",
      "13/13 [==============================] - 4s 331ms/step - loss: 0.0173 - binary_accuracy: 1.0000 - val_loss: 0.1823 - val_binary_accuracy: 0.9231\n",
      "Epoch 91/1750\n",
      "13/13 [==============================] - 4s 318ms/step - loss: 0.0073 - binary_accuracy: 1.0000 - val_loss: 0.1534 - val_binary_accuracy: 0.9231\n",
      "Epoch 92/1750\n",
      "13/13 [==============================] - 4s 321ms/step - loss: 0.0045 - binary_accuracy: 1.0000 - val_loss: 4.4190 - val_binary_accuracy: 0.2308\n",
      "Epoch 93/1750\n",
      "13/13 [==============================] - 4s 313ms/step - loss: 0.2705 - binary_accuracy: 0.9496 - val_loss: 0.2461 - val_binary_accuracy: 0.8846\n",
      "Epoch 94/1750\n",
      "13/13 [==============================] - 4s 323ms/step - loss: 0.0090 - binary_accuracy: 1.0000 - val_loss: 0.7245 - val_binary_accuracy: 0.8077\n",
      "Epoch 95/1750\n",
      "13/13 [==============================] - 4s 321ms/step - loss: 0.0706 - binary_accuracy: 0.9749 - val_loss: 0.2578 - val_binary_accuracy: 0.8846\n",
      "Epoch 96/1750\n",
      "13/13 [==============================] - 4s 323ms/step - loss: 0.0774 - binary_accuracy: 0.9814 - val_loss: 0.0390 - val_binary_accuracy: 1.0000\n",
      "Epoch 97/1750\n",
      "13/13 [==============================] - 4s 320ms/step - loss: 0.1143 - binary_accuracy: 0.9418 - val_loss: 0.0150 - val_binary_accuracy: 1.0000\n",
      "Epoch 98/1750\n",
      "13/13 [==============================] - 4s 326ms/step - loss: 0.0120 - binary_accuracy: 1.0000 - val_loss: 0.2149 - val_binary_accuracy: 0.8846\n",
      "Epoch 99/1750\n",
      "13/13 [==============================] - 4s 327ms/step - loss: 0.0044 - binary_accuracy: 1.0000 - val_loss: 0.1771 - val_binary_accuracy: 0.8846\n",
      "Epoch 100/1750\n",
      "13/13 [==============================] - 4s 326ms/step - loss: 0.0035 - binary_accuracy: 1.0000 - val_loss: 0.0284 - val_binary_accuracy: 1.0000\n",
      "Epoch 101/1750\n",
      "13/13 [==============================] - 4s 325ms/step - loss: 0.0029 - binary_accuracy: 1.0000 - val_loss: 0.6301 - val_binary_accuracy: 0.8846\n",
      "Epoch 102/1750\n",
      "13/13 [==============================] - 4s 322ms/step - loss: 0.0016 - binary_accuracy: 1.0000 - val_loss: 0.0015 - val_binary_accuracy: 1.0000\n",
      "Epoch 103/1750\n",
      "13/13 [==============================] - 4s 321ms/step - loss: 0.5556 - binary_accuracy: 0.9128 - val_loss: 1.0655 - val_binary_accuracy: 0.7692\n",
      "Epoch 104/1750\n",
      "13/13 [==============================] - 4s 320ms/step - loss: 0.0014 - binary_accuracy: 1.0000 - val_loss: 1.0419 - val_binary_accuracy: 0.8077\n",
      "Epoch 105/1750\n",
      "13/13 [==============================] - 4s 315ms/step - loss: 0.0012 - binary_accuracy: 1.0000 - val_loss: 0.8989 - val_binary_accuracy: 0.8077\n",
      "Epoch 106/1750\n",
      "13/13 [==============================] - 4s 313ms/step - loss: 9.3491e-04 - binary_accuracy: 1.0000 - val_loss: 1.3363 - val_binary_accuracy: 0.8077\n",
      "Epoch 107/1750\n",
      "13/13 [==============================] - 4s 319ms/step - loss: 9.2310e-04 - binary_accuracy: 1.0000 - val_loss: 1.2960 - val_binary_accuracy: 0.7692\n",
      "Epoch 108/1750\n",
      "13/13 [==============================] - 4s 321ms/step - loss: 5.4431e-04 - binary_accuracy: 1.0000 - val_loss: 1.0426 - val_binary_accuracy: 0.8077\n",
      "Epoch 109/1750\n",
      "13/13 [==============================] - 4s 315ms/step - loss: 4.3608e-04 - binary_accuracy: 1.0000 - val_loss: 1.1692 - val_binary_accuracy: 0.8462\n",
      "Epoch 110/1750\n",
      "13/13 [==============================] - 4s 310ms/step - loss: 3.1414e-04 - binary_accuracy: 1.0000 - val_loss: 5.1942e-04 - val_binary_accuracy: 1.0000\n",
      "Epoch 111/1750\n",
      "13/13 [==============================] - 4s 312ms/step - loss: 0.2965 - binary_accuracy: 0.9648 - val_loss: 6.0708e-04 - val_binary_accuracy: 1.0000\n",
      "Epoch 112/1750\n",
      "13/13 [==============================] - 4s 320ms/step - loss: 0.0535 - binary_accuracy: 0.9895 - val_loss: 0.0979 - val_binary_accuracy: 0.9615\n",
      "Epoch 113/1750\n",
      "13/13 [==============================] - 4s 316ms/step - loss: 4.5199e-04 - binary_accuracy: 1.0000 - val_loss: 0.0855 - val_binary_accuracy: 0.9615\n",
      "Epoch 114/1750\n",
      "13/13 [==============================] - 4s 317ms/step - loss: 3.3363e-04 - binary_accuracy: 1.0000 - val_loss: 0.0700 - val_binary_accuracy: 0.9615\n",
      "Epoch 115/1750\n",
      "13/13 [==============================] - 4s 314ms/step - loss: 0.4758 - binary_accuracy: 0.9041 - val_loss: 1.2049 - val_binary_accuracy: 0.7308\n",
      "Epoch 116/1750\n",
      "13/13 [==============================] - 4s 316ms/step - loss: 0.0051 - binary_accuracy: 1.0000 - val_loss: 0.6994 - val_binary_accuracy: 0.8077\n",
      "Epoch 117/1750\n",
      "13/13 [==============================] - 4s 315ms/step - loss: 0.0025 - binary_accuracy: 1.0000 - val_loss: 0.5706 - val_binary_accuracy: 0.8077\n",
      "Epoch 118/1750\n",
      "13/13 [==============================] - 4s 309ms/step - loss: 0.0020 - binary_accuracy: 1.0000 - val_loss: 0.4397 - val_binary_accuracy: 0.8846\n",
      "Epoch 119/1750\n",
      "13/13 [==============================] - 4s 348ms/step - loss: 0.0012 - binary_accuracy: 1.0000 - val_loss: 0.3723 - val_binary_accuracy: 0.8846\n",
      "Epoch 120/1750\n",
      "13/13 [==============================] - 5s 401ms/step - loss: 7.1687e-04 - binary_accuracy: 1.0000 - val_loss: 0.4248 - val_binary_accuracy: 0.9231\n",
      "Epoch 121/1750\n",
      "13/13 [==============================] - 6s 481ms/step - loss: 5.2847e-04 - binary_accuracy: 1.0000 - val_loss: 0.4379 - val_binary_accuracy: 0.9231\n",
      "Epoch 122/1750\n",
      "13/13 [==============================] - 5s 376ms/step - loss: 3.3567e-04 - binary_accuracy: 1.0000 - val_loss: 0.4827 - val_binary_accuracy: 0.9231\n",
      "Epoch 123/1750\n",
      "13/13 [==============================] - 4s 322ms/step - loss: 3.0992e-04 - binary_accuracy: 1.0000 - val_loss: 0.4478 - val_binary_accuracy: 0.9231\n",
      "Epoch 124/1750\n",
      "13/13 [==============================] - 4s 320ms/step - loss: 1.5802e-04 - binary_accuracy: 1.0000 - val_loss: 0.4233 - val_binary_accuracy: 0.9231\n",
      "Epoch 125/1750\n",
      "13/13 [==============================] - 4s 320ms/step - loss: 1.1827e-04 - binary_accuracy: 1.0000 - val_loss: 0.2476 - val_binary_accuracy: 0.9231\n",
      "Epoch 126/1750\n",
      "13/13 [==============================] - 4s 322ms/step - loss: 7.5730e-05 - binary_accuracy: 1.0000 - val_loss: 1.8650 - val_binary_accuracy: 0.7692\n",
      "Epoch 127/1750\n",
      "13/13 [==============================] - 4s 311ms/step - loss: 1.1472 - binary_accuracy: 0.8380 - val_loss: 2.1790 - val_binary_accuracy: 0.6538\n",
      "Epoch 128/1750\n",
      "13/13 [==============================] - 4s 314ms/step - loss: 0.0628 - binary_accuracy: 0.9642 - val_loss: 1.0819 - val_binary_accuracy: 0.8077\n",
      "Epoch 129/1750\n",
      "13/13 [==============================] - 4s 316ms/step - loss: 4.7196e-04 - binary_accuracy: 1.0000 - val_loss: 1.0035 - val_binary_accuracy: 0.8462\n",
      "Epoch 130/1750\n",
      "13/13 [==============================] - 4s 316ms/step - loss: 6.2116e-04 - binary_accuracy: 1.0000 - val_loss: 0.8049 - val_binary_accuracy: 0.8462\n",
      "Epoch 131/1750\n",
      "13/13 [==============================] - 4s 313ms/step - loss: 2.3898e-04 - binary_accuracy: 1.0000 - val_loss: 0.7933 - val_binary_accuracy: 0.8462\n",
      "Epoch 132/1750\n",
      "13/13 [==============================] - 4s 320ms/step - loss: 1.6934e-04 - binary_accuracy: 1.0000 - val_loss: 1.7534 - val_binary_accuracy: 0.7692\n",
      "Epoch 133/1750\n",
      "13/13 [==============================] - 4s 319ms/step - loss: 0.2847 - binary_accuracy: 0.9437 - val_loss: 0.2049 - val_binary_accuracy: 0.8846\n",
      "Epoch 134/1750\n",
      "13/13 [==============================] - 4s 318ms/step - loss: 0.0083 - binary_accuracy: 1.0000 - val_loss: 0.9648 - val_binary_accuracy: 0.8077\n",
      "Epoch 135/1750\n",
      "13/13 [==============================] - 4s 320ms/step - loss: 0.0021 - binary_accuracy: 1.0000 - val_loss: 0.7318 - val_binary_accuracy: 0.8077\n",
      "Epoch 136/1750\n",
      "13/13 [==============================] - 4s 315ms/step - loss: 3.3051e-04 - binary_accuracy: 1.0000 - val_loss: 0.7567 - val_binary_accuracy: 0.8077\n",
      "Epoch 137/1750\n",
      "13/13 [==============================] - 4s 319ms/step - loss: 2.3729e-04 - binary_accuracy: 1.0000 - val_loss: 0.8644 - val_binary_accuracy: 0.8077\n",
      "Epoch 138/1750\n",
      "13/13 [==============================] - 4s 325ms/step - loss: 1.8078e-04 - binary_accuracy: 1.0000 - val_loss: 0.7627 - val_binary_accuracy: 0.8462\n",
      "Epoch 139/1750\n",
      "13/13 [==============================] - 4s 318ms/step - loss: 2.0740e-04 - binary_accuracy: 1.0000 - val_loss: 0.7777 - val_binary_accuracy: 0.8462\n",
      "Epoch 140/1750\n",
      "13/13 [==============================] - 4s 326ms/step - loss: 1.1766e-04 - binary_accuracy: 1.0000 - val_loss: 0.7282 - val_binary_accuracy: 0.8462\n",
      "Epoch 141/1750\n",
      "13/13 [==============================] - 4s 326ms/step - loss: 1.2914e-04 - binary_accuracy: 1.0000 - val_loss: 0.6788 - val_binary_accuracy: 0.8846\n",
      "Epoch 142/1750\n",
      "13/13 [==============================] - 4s 320ms/step - loss: 6.2682e-05 - binary_accuracy: 1.0000 - val_loss: 0.6614 - val_binary_accuracy: 0.8846\n",
      "Epoch 143/1750\n",
      "13/13 [==============================] - 4s 328ms/step - loss: 4.6928e-05 - binary_accuracy: 1.0000 - val_loss: 0.9019 - val_binary_accuracy: 0.8846\n",
      "Epoch 144/1750\n",
      "13/13 [==============================] - 4s 326ms/step - loss: 3.7531e-05 - binary_accuracy: 1.0000 - val_loss: 0.9494 - val_binary_accuracy: 0.8846\n",
      "Epoch 145/1750\n",
      "13/13 [==============================] - 4s 325ms/step - loss: 1.9852e-05 - binary_accuracy: 1.0000 - val_loss: 0.8885 - val_binary_accuracy: 0.8846\n",
      "Epoch 146/1750\n",
      "13/13 [==============================] - 4s 316ms/step - loss: 1.0968e-05 - binary_accuracy: 1.0000 - val_loss: 0.9719 - val_binary_accuracy: 0.8846\n",
      "Epoch 147/1750\n",
      "13/13 [==============================] - 4s 314ms/step - loss: 7.3355e-06 - binary_accuracy: 1.0000 - val_loss: 1.1357 - val_binary_accuracy: 0.8846\n",
      "Epoch 148/1750\n",
      "13/13 [==============================] - 4s 327ms/step - loss: 4.1914e-06 - binary_accuracy: 1.0000 - val_loss: 1.1020 - val_binary_accuracy: 0.8846\n",
      "Epoch 149/1750\n",
      "13/13 [==============================] - 4s 322ms/step - loss: 2.4745e-06 - binary_accuracy: 1.0000 - val_loss: 1.1498 - val_binary_accuracy: 0.8846\n",
      "Epoch 150/1750\n",
      "13/13 [==============================] - 4s 339ms/step - loss: 1.7422e-06 - binary_accuracy: 1.0000 - val_loss: 1.1946 - val_binary_accuracy: 0.8846\n",
      "Epoch 151/1750\n",
      "13/13 [==============================] - 4s 326ms/step - loss: 9.2346e-07 - binary_accuracy: 1.0000 - val_loss: 1.2787 - val_binary_accuracy: 0.8846\n",
      "Epoch 152/1750\n",
      "13/13 [==============================] - 4s 319ms/step - loss: 5.0071e-07 - binary_accuracy: 1.0000 - val_loss: 1.3215 - val_binary_accuracy: 0.8846\n",
      "Epoch 153/1750\n",
      "13/13 [==============================] - 4s 321ms/step - loss: 3.2927e-07 - binary_accuracy: 1.0000 - val_loss: 1.3237 - val_binary_accuracy: 0.8846\n",
      "Epoch 154/1750\n",
      "13/13 [==============================] - 4s 324ms/step - loss: 2.2519e-07 - binary_accuracy: 1.0000 - val_loss: 1.5133 - val_binary_accuracy: 0.8846\n",
      "Epoch 155/1750\n",
      "13/13 [==============================] - 4s 320ms/step - loss: 1.2325e-07 - binary_accuracy: 1.0000 - val_loss: 1.5620 - val_binary_accuracy: 0.8846\n",
      "Epoch 156/1750\n",
      "13/13 [==============================] - 4s 320ms/step - loss: 7.0429e-08 - binary_accuracy: 1.0000 - val_loss: 1.6080 - val_binary_accuracy: 0.8846\n",
      "Epoch 157/1750\n",
      "13/13 [==============================] - 4s 322ms/step - loss: 5.5827e-08 - binary_accuracy: 1.0000 - val_loss: 1.5717 - val_binary_accuracy: 0.8846\n",
      "Epoch 158/1750\n",
      "13/13 [==============================] - 4s 326ms/step - loss: 3.4496e-08 - binary_accuracy: 1.0000 - val_loss: 1.5759 - val_binary_accuracy: 0.8846\n",
      "Epoch 159/1750\n",
      "13/13 [==============================] - 4s 326ms/step - loss: 2.7664e-08 - binary_accuracy: 1.0000 - val_loss: 1.5986 - val_binary_accuracy: 0.8846\n",
      "Epoch 160/1750\n",
      "13/13 [==============================] - 4s 329ms/step - loss: 2.0757e-08 - binary_accuracy: 1.0000 - val_loss: 1.5959 - val_binary_accuracy: 0.8846\n"
     ]
    },
    {
     "data": {
      "text/plain": [
       "<tensorflow.python.keras.callbacks.History at 0x7f2f3d6d7150>"
      ]
     },
     "execution_count": 10,
     "metadata": {
      "tags": []
     },
     "output_type": "execute_result"
    }
   ],
   "source": [
    "#Fitting the model to the train set\r\n",
    "es = EarlyStopping(patience=50)\r\n",
    "\r\n",
    "model.fit(X_train_pad, y_train, \r\n",
    "          epochs=1750, \r\n",
    "          batch_size=8, \r\n",
    "          verbose=1, \r\n",
    "          callbacks = [es],\r\n",
    "          validation_split=0.2,\r\n",
    "          shuffle=True)"
   ]
  },
  {
   "cell_type": "code",
   "execution_count": 15,
   "metadata": {
    "colab": {
     "base_uri": "https://localhost:8080/"
    },
    "executionInfo": {
     "elapsed": 14561,
     "status": "ok",
     "timestamp": 1615323697925,
     "user": {
      "displayName": "Robyn Korolnek",
      "photoUrl": "",
      "userId": "16134780550472158874"
     },
     "user_tz": 300
    },
    "id": "15sms_erucZM",
    "outputId": "40a9e33e-f76c-4d78-85be-ecfb08e4a7ce"
   },
   "outputs": [
    {
     "name": "stderr",
     "output_type": "stream",
     "text": [
      "WARNING:absl:Found untraced functions such as lstm_cell_layer_call_and_return_conditional_losses, lstm_cell_layer_call_fn, lstm_cell_1_layer_call_and_return_conditional_losses, lstm_cell_1_layer_call_fn, lstm_cell_layer_call_fn while saving (showing 5 of 10). These functions will not be directly callable after loading.\n",
      "WARNING:absl:Found untraced functions such as lstm_cell_layer_call_and_return_conditional_losses, lstm_cell_layer_call_fn, lstm_cell_1_layer_call_and_return_conditional_losses, lstm_cell_1_layer_call_fn, lstm_cell_layer_call_fn while saving (showing 5 of 10). These functions will not be directly callable after loading.\n"
     ]
    },
    {
     "name": "stdout",
     "output_type": "stream",
     "text": [
      "INFO:tensorflow:Assets written to: my_model/assets\n"
     ]
    },
    {
     "name": "stderr",
     "output_type": "stream",
     "text": [
      "INFO:tensorflow:Assets written to: my_model/assets\n"
     ]
    }
   ],
   "source": [
    "model.save(\"my_model\")\r\n",
    "model.save_weights(\"weights.h5\")"
   ]
  },
  {
   "cell_type": "code",
   "execution_count": 11,
   "metadata": {
    "colab": {
     "base_uri": "https://localhost:8080/"
    },
    "executionInfo": {
     "elapsed": 694185,
     "status": "ok",
     "timestamp": 1615323509689,
     "user": {
      "displayName": "Robyn Korolnek",
      "photoUrl": "",
      "userId": "16134780550472158874"
     },
     "user_tz": 300
    },
    "id": "GMLOWk11TBFF",
    "outputId": "035a2ebd-de4a-47cf-b7f3-240dfe1e7bb2"
   },
   "outputs": [
    {
     "name": "stdout",
     "output_type": "stream",
     "text": [
      "5/5 [==============================] - 1s 199ms/step - loss: 0.3192 - binary_accuracy: 0.9769\n"
     ]
    },
    {
     "data": {
      "text/plain": [
       "[0.31917595863342285, 0.9769230484962463]"
      ]
     },
     "execution_count": 11,
     "metadata": {
      "tags": []
     },
     "output_type": "execute_result"
    }
   ],
   "source": [
    "#Evaluate the model on the train set\r\n",
    "model.evaluate(X_train_pad, y_train)"
   ]
  },
  {
   "cell_type": "code",
   "execution_count": 12,
   "metadata": {
    "colab": {
     "base_uri": "https://localhost:8080/"
    },
    "executionInfo": {
     "elapsed": 694580,
     "status": "ok",
     "timestamp": 1615323510089,
     "user": {
      "displayName": "Robyn Korolnek",
      "photoUrl": "",
      "userId": "16134780550472158874"
     },
     "user_tz": 300
    },
    "id": "lG2p8lhIh3Hq",
    "outputId": "ba90a640-08fb-4632-fd8a-c6a04199af68"
   },
   "outputs": [
    {
     "name": "stdout",
     "output_type": "stream",
     "text": [
      "2/2 [==============================] - 0s 58ms/step - loss: 2.2517 - binary_accuracy: 0.8529\n"
     ]
    },
    {
     "data": {
      "text/plain": [
       "[2.2517054080963135, 0.8529411554336548]"
      ]
     },
     "execution_count": 12,
     "metadata": {
      "tags": []
     },
     "output_type": "execute_result"
    }
   ],
   "source": [
    "#Evaluate the model on the test set\r\n",
    "model.evaluate(X_test_pad, y_test)"
   ]
  },
  {
   "cell_type": "code",
   "execution_count": 13,
   "metadata": {
    "colab": {
     "base_uri": "https://localhost:8080/"
    },
    "executionInfo": {
     "elapsed": 698021,
     "status": "ok",
     "timestamp": 1615323513534,
     "user": {
      "displayName": "Robyn Korolnek",
      "photoUrl": "",
      "userId": "16134780550472158874"
     },
     "user_tz": 300
    },
    "id": "TYG04qHyCvwY",
    "outputId": "b5870713-9d9e-471f-b9c8-ef3974f9bce0"
   },
   "outputs": [
    {
     "data": {
      "text/plain": [
       "array([[9.5897219e-09],\n",
       "       [5.3629958e-09],\n",
       "       [5.7195386e-09],\n",
       "       [5.0999649e-09],\n",
       "       [1.0000000e+00],\n",
       "       [9.9991608e-01],\n",
       "       [6.1792260e-09],\n",
       "       [5.3606843e-09],\n",
       "       [5.7303162e-09],\n",
       "       [5.3801776e-09],\n",
       "       [5.2649067e-09],\n",
       "       [5.7939498e-09],\n",
       "       [1.0000000e+00],\n",
       "       [9.9999976e-01],\n",
       "       [1.0000000e+00],\n",
       "       [5.6648632e-09],\n",
       "       [5.3022440e-09],\n",
       "       [1.0000000e+00],\n",
       "       [9.9999607e-01],\n",
       "       [1.0000000e+00],\n",
       "       [1.0000000e+00],\n",
       "       [1.0000000e+00],\n",
       "       [1.0000000e+00],\n",
       "       [1.0000000e+00],\n",
       "       [9.9999976e-01],\n",
       "       [1.0000000e+00],\n",
       "       [9.9817991e-01],\n",
       "       [1.0000000e+00],\n",
       "       [1.0000000e+00],\n",
       "       [1.0000000e+00],\n",
       "       [9.9999976e-01],\n",
       "       [9.9979544e-01],\n",
       "       [1.0000000e+00],\n",
       "       [1.0000000e+00]], dtype=float32)"
      ]
     },
     "execution_count": 13,
     "metadata": {
      "tags": []
     },
     "output_type": "execute_result"
    }
   ],
   "source": [
    "#predictions of the test set compared to the actuals\r\n",
    "model.predict(X_test_pad)"
   ]
  },
  {
   "cell_type": "code",
   "execution_count": 14,
   "metadata": {
    "colab": {
     "base_uri": "https://localhost:8080/"
    },
    "executionInfo": {
     "elapsed": 698018,
     "status": "ok",
     "timestamp": 1615323513535,
     "user": {
      "displayName": "Robyn Korolnek",
      "photoUrl": "",
      "userId": "16134780550472158874"
     },
     "user_tz": 300
    },
    "id": "qGu8aydfP_cQ",
    "outputId": "3054c83c-3360-4045-a3d6-8ebb15c5e51c"
   },
   "outputs": [
    {
     "data": {
      "text/plain": [
       "0     0.0\n",
       "1     0.0\n",
       "2     0.0\n",
       "3     0.0\n",
       "4     0.0\n",
       "5     0.0\n",
       "6     0.0\n",
       "7     0.0\n",
       "8     0.0\n",
       "9     0.0\n",
       "10    0.0\n",
       "11    0.0\n",
       "12    0.0\n",
       "13    0.0\n",
       "14    0.0\n",
       "15    0.0\n",
       "16    0.0\n",
       "17    1.0\n",
       "18    1.0\n",
       "19    1.0\n",
       "20    1.0\n",
       "21    1.0\n",
       "22    1.0\n",
       "23    1.0\n",
       "24    1.0\n",
       "25    1.0\n",
       "26    1.0\n",
       "27    1.0\n",
       "28    1.0\n",
       "29    1.0\n",
       "30    1.0\n",
       "31    1.0\n",
       "32    1.0\n",
       "33    1.0\n",
       "Name: labels, dtype: float64"
      ]
     },
     "execution_count": 14,
     "metadata": {
      "tags": []
     },
     "output_type": "execute_result"
    }
   ],
   "source": [
    "y_test"
   ]
  }
 ],
 "metadata": {
  "colab": {
   "authorship_tag": "ABX9TyMxmH6cQnvoIA/W+ymZ/g40",
   "collapsed_sections": [],
   "name": "RNN_Out_Features.ipynb",
   "provenance": [],
   "toc_visible": true
  },
  "kernelspec": {
   "display_name": "Python 3",
   "language": "python",
   "name": "python3"
  },
  "language_info": {
   "codemirror_mode": {
    "name": "ipython",
    "version": 3
   },
   "file_extension": ".py",
   "mimetype": "text/x-python",
   "name": "python",
   "nbconvert_exporter": "python",
   "pygments_lexer": "ipython3",
   "version": "3.8.5"
  }
 },
 "nbformat": 4,
 "nbformat_minor": 4
}
