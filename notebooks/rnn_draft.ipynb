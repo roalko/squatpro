{
 "cells": [
  {
   "cell_type": "code",
   "execution_count": 1,
   "metadata": {},
   "outputs": [],
   "source": [
    "import os\n",
    "import numpy as np\n",
    "import pandas as pd\n",
    "import matplotlib.pyplot as plt\n",
    "from sklearn.model_selection import train_test_split\n",
    "from tensorflow.keras import Sequential, layers\n",
    "from tensorflow.keras.callbacks import EarlyStopping\n",
    "from sklearn.preprocessing import StandardScaler\n",
    "from tensorflow.keras.preprocessing.sequence import pad_sequences"
   ]
  },
  {
   "cell_type": "code",
   "execution_count": null,
   "metadata": {},
   "outputs": [],
   "source": [
    "#create an RNN Model that will take a list or array of 3 x Dimensional Vector as an Input\n",
    "#And can train according to binary classification"
   ]
  },
  {
   "cell_type": "code",
   "execution_count": 28,
   "metadata": {},
   "outputs": [],
   "source": [
    "def convert_csv_into_nested_list(csv_path):\n",
    "    df = pd.read_csv(csv_path)\n",
    "    list_of_lists = df.values.tolist()\n",
    "    return list_of_lists\n",
    "\n",
    "\n",
    "def store_X(list_of_files):\n",
    "    for fi in list_of_files:\n",
    "        X_list.append(convert_csv_into_nested_list(os.path.join(path, fi)))\n",
    "        \n",
    "        \n",
    "def convert_X_to_ndarray(list_object):\n",
    "    for arr in list_object:\n",
    "        X.append(np.array(arr))\n",
    "\n",
    "\n",
    "def pad_values(X):\n",
    "    X_pad = pad_sequences(X, dtype='float32',padding='post',value=-1000)"
   ]
  },
  {
   "cell_type": "code",
   "execution_count": 29,
   "metadata": {},
   "outputs": [],
   "source": [
    "path = \"../raw_data/train/\"\n",
    "list_of_files = os.listdir(\"../raw_data/train\")\n",
    "X_list = []\n",
    "X = []\n",
    "\n",
    "store_X(list_of_files)\n",
    "convert_X_to_ndarray(X_list)\n",
    "X_pad = pad_sequences(X, dtype='float32',padding='post',value=-1000)\n",
    "\n",
    "y = np.full(80,1)\n",
    "y[40:] = 0"
   ]
  },
  {
   "cell_type": "code",
   "execution_count": 30,
   "metadata": {},
   "outputs": [
    {
     "name": "stdout",
     "output_type": "stream",
     "text": [
      "(80, 176, 32) [1 1 1 1 1 1 1 1 1 1 1 1 1 1 1 1 1 1 1 1 1 1 1 1 1 1 1 1 1 1 1 1 1 1 1 1 1\n",
      " 1 1 1 0 0 0 0 0 0 0 0 0 0 0 0 0 0 0 0 0 0 0 0 0 0 0 0 0 0 0 0 0 0 0 0 0 0\n",
      " 0 0 0 0 0 0]\n"
     ]
    }
   ],
   "source": [
    "print(X_pad.shape,y)"
   ]
  },
  {
   "cell_type": "code",
   "execution_count": 31,
   "metadata": {},
   "outputs": [],
   "source": [
    "path = \"../raw_data/val/\"\n",
    "list_of_files = os.listdir(\"../raw_data/val\")\n",
    "X_list = []\n",
    "X = []\n",
    "\n",
    "store_X(list_of_files)\n",
    "convert_X_to_ndarray(X_list)\n",
    "X_val_pad = pad_sequences(X, dtype='float32',padding='post',value=-1000)\n",
    "\n",
    "y_val = np.full(20,1)\n",
    "y_val[10:] = 0"
   ]
  },
  {
   "cell_type": "code",
   "execution_count": 32,
   "metadata": {},
   "outputs": [
    {
     "name": "stdout",
     "output_type": "stream",
     "text": [
      "(20, 135, 32) [1 1 1 1 1 1 1 1 1 1 0 0 0 0 0 0 0 0 0 0]\n"
     ]
    }
   ],
   "source": [
    "print(X_val_pad.shape,y_val)"
   ]
  },
  {
   "cell_type": "code",
   "execution_count": 33,
   "metadata": {},
   "outputs": [],
   "source": [
    "model = Sequential()\n",
    "model.add(layers.SimpleRNN(32,input_dim=32, activation='relu'))\n",
    "model.add(layers.Dense(16, activation='relu'))\n",
    "model.add(layers.Dense(8, activation='relu'))\n",
    "model.add(layers.Dense(4, activation='relu'))\n",
    "model.add(layers.Dense(1, activation='sigmoid'))\n",
    "model.compile(loss='binary_crossentropy', optimizer='adam', metrics=['accuracy'])"
   ]
  },
  {
   "cell_type": "code",
   "execution_count": 34,
   "metadata": {},
   "outputs": [
    {
     "name": "stdout",
     "output_type": "stream",
     "text": [
      "3/3 [==============================] - 1s 204ms/step - loss: 6.4324 - accuracy: 0.5336 - val_loss: 33.6501 - val_accuracy: 0.4500\n"
     ]
    }
   ],
   "source": [
    "#fit the model\n",
    "#may import implement early stopping for later\n",
    "model_fit = model.fit(X_pad,y,validation_data = (X_val_pad,y_val))"
   ]
  },
  {
   "cell_type": "code",
   "execution_count": null,
   "metadata": {},
   "outputs": [],
   "source": [
    "model."
   ]
  },
  {
   "cell_type": "code",
   "execution_count": null,
   "metadata": {},
   "outputs": [],
   "source": [
    "es = EarlyStopping(patience=2)\n",
    "\n",
    "model.compile(loss='categorical_crossentropy', optimizer='rmsprop', metrics=['accuracy'])\n",
    "\n",
    "model.fit(X, y, \n",
    "          epochs=75, \n",
    "          batch_size=32, \n",
    "          verbose=1, \n",
    "          callbacks = [es],\n",
    "          validation_split=0.3)"
   ]
  }
 ],
 "metadata": {
  "kernelspec": {
   "display_name": "Python 3",
   "language": "python",
   "name": "python3"
  },
  "language_info": {
   "codemirror_mode": {
    "name": "ipython",
    "version": 3
   },
   "file_extension": ".py",
   "mimetype": "text/x-python",
   "name": "python",
   "nbconvert_exporter": "python",
   "pygments_lexer": "ipython3",
   "version": "3.8.6"
  }
 },
 "nbformat": 4,
 "nbformat_minor": 4
}
