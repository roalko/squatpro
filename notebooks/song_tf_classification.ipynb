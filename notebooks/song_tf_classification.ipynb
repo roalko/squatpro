{
 "cells": [
  {
   "cell_type": "code",
   "execution_count": 1,
   "metadata": {},
   "outputs": [],
   "source": [
    "import cv2\n",
    "import os\n",
    "import math\n",
    "import pandas as pd\n",
    "import numpy as np\n",
    "from PIL import Image\n",
    "import tensorflow as tf"
   ]
  },
  {
   "cell_type": "code",
   "execution_count": 2,
   "metadata": {},
   "outputs": [
    {
     "name": "stdout",
     "output_type": "stream",
     "text": [
      "Found 40 Videos in ../raw_data/Mov_Files/Train/Bad Directory\n",
      "Found 40 Videos in ../raw_data/Mov_Files/Train/Good Directory\n",
      "Number of Videos : 80\n",
      "Number of Labels : 80\n",
      "Found 10 Videos in ../raw_data/Mov_Files/Test/Bad Directory\n",
      "Found 10 Videos in ../raw_data/Mov_Files/Test/Good Directory\n",
      "Number of Videos : 20\n",
      "Number of Labels : 20\n"
     ]
    }
   ],
   "source": [
    "##### Create Train and Test Dataset CSVs or DataFrames\n",
    "ROOT_DATA_DIR = \"../raw_data/Mov_Files\"\n",
    "OUT_DATA_DIR = \"../raw_data/Out_Frames\"\n",
    "DATA_SUB_DIRs = [\"Train\", \"Test\"]\n",
    "CLS_LIST = [\"Bad\", \"Good\"]\n",
    "EXTs_LIST = [\"mov\"]\n",
    "\n",
    "def get_data_dict(data_path, class_list, ext_list):\n",
    "    data_dict = {\"vid_paths\":[], \"vid_files\":[], \"labels\":[]}\n",
    "    for i, clss in enumerate(class_list):\n",
    "        dir_path = os.path.join(data_path, clss)\n",
    "        list_vids = [l for l in os.listdir(dir_path) if l.split(\".\")[-1] in ext_list]\n",
    "        print(f\"Found {len(list_vids)} Videos in {dir_path} Directory\")\n",
    "        data_dict[\"vid_files\"].extend(list_vids)\n",
    "        data_dict[\"labels\"].extend([i for k in range(len(list_vids))])\n",
    "        data_dict[\"vid_paths\"].extend([dir_path for _ in range(len(list_vids))])\n",
    "    \n",
    "    total_videos = len(data_dict[\"vid_files\"])\n",
    "    total_labels = len(data_dict[\"labels\"])\n",
    "    print(f\"Number of Videos : {total_videos}\")\n",
    "    print(f\"Number of Labels : {total_labels}\")\n",
    "    return data_dict\n",
    "\n",
    "train_data_dict = pd.DataFrame(get_data_dict(data_path=os.path.join(ROOT_DATA_DIR, DATA_SUB_DIRs[0]),\n",
    "                               class_list=CLS_LIST,\n",
    "                               ext_list=EXTs_LIST))\n",
    "\n",
    "\n",
    "test_data_dict = pd.DataFrame(get_data_dict(data_path=os.path.join(ROOT_DATA_DIR, DATA_SUB_DIRs[1]),\n",
    "                               class_list=CLS_LIST,\n",
    "                               ext_list=EXTs_LIST))       "
   ]
  },
  {
   "cell_type": "code",
   "execution_count": 3,
   "metadata": {},
   "outputs": [
    {
     "data": {
      "text/html": [
       "<div>\n",
       "<style scoped>\n",
       "    .dataframe tbody tr th:only-of-type {\n",
       "        vertical-align: middle;\n",
       "    }\n",
       "\n",
       "    .dataframe tbody tr th {\n",
       "        vertical-align: top;\n",
       "    }\n",
       "\n",
       "    .dataframe thead th {\n",
       "        text-align: right;\n",
       "    }\n",
       "</style>\n",
       "<table border=\"1\" class=\"dataframe\">\n",
       "  <thead>\n",
       "    <tr style=\"text-align: right;\">\n",
       "      <th></th>\n",
       "      <th>vid_paths</th>\n",
       "      <th>vid_files</th>\n",
       "      <th>labels</th>\n",
       "    </tr>\n",
       "  </thead>\n",
       "  <tbody>\n",
       "    <tr>\n",
       "      <th>2</th>\n",
       "      <td>../raw_data/Mov_Files/Train/Bad</td>\n",
       "      <td>70.mov</td>\n",
       "      <td>0</td>\n",
       "    </tr>\n",
       "    <tr>\n",
       "      <th>16</th>\n",
       "      <td>../raw_data/Mov_Files/Train/Bad</td>\n",
       "      <td>69.mov</td>\n",
       "      <td>0</td>\n",
       "    </tr>\n",
       "    <tr>\n",
       "      <th>65</th>\n",
       "      <td>../raw_data/Mov_Files/Train/Good</td>\n",
       "      <td>29.mov</td>\n",
       "      <td>1</td>\n",
       "    </tr>\n",
       "    <tr>\n",
       "      <th>14</th>\n",
       "      <td>../raw_data/Mov_Files/Train/Bad</td>\n",
       "      <td>45.mov</td>\n",
       "      <td>0</td>\n",
       "    </tr>\n",
       "    <tr>\n",
       "      <th>11</th>\n",
       "      <td>../raw_data/Mov_Files/Train/Bad</td>\n",
       "      <td>75.mov</td>\n",
       "      <td>0</td>\n",
       "    </tr>\n",
       "  </tbody>\n",
       "</table>\n",
       "</div>"
      ],
      "text/plain": [
       "                           vid_paths vid_files  labels\n",
       "2    ../raw_data/Mov_Files/Train/Bad    70.mov       0\n",
       "16   ../raw_data/Mov_Files/Train/Bad    69.mov       0\n",
       "65  ../raw_data/Mov_Files/Train/Good    29.mov       1\n",
       "14   ../raw_data/Mov_Files/Train/Bad    45.mov       0\n",
       "11   ../raw_data/Mov_Files/Train/Bad    75.mov       0"
      ]
     },
     "execution_count": 3,
     "metadata": {},
     "output_type": "execute_result"
    }
   ],
   "source": [
    "train_data_dict.sample(frac=1).head()"
   ]
  },
  {
   "cell_type": "code",
   "execution_count": 4,
   "metadata": {},
   "outputs": [
    {
     "data": {
      "text/html": [
       "<div>\n",
       "<style scoped>\n",
       "    .dataframe tbody tr th:only-of-type {\n",
       "        vertical-align: middle;\n",
       "    }\n",
       "\n",
       "    .dataframe tbody tr th {\n",
       "        vertical-align: top;\n",
       "    }\n",
       "\n",
       "    .dataframe thead th {\n",
       "        text-align: right;\n",
       "    }\n",
       "</style>\n",
       "<table border=\"1\" class=\"dataframe\">\n",
       "  <thead>\n",
       "    <tr style=\"text-align: right;\">\n",
       "      <th></th>\n",
       "      <th>vid_paths</th>\n",
       "      <th>vid_files</th>\n",
       "      <th>labels</th>\n",
       "    </tr>\n",
       "  </thead>\n",
       "  <tbody>\n",
       "    <tr>\n",
       "      <th>14</th>\n",
       "      <td>../raw_data/Mov_Files/Test/Good</td>\n",
       "      <td>86.mov</td>\n",
       "      <td>1</td>\n",
       "    </tr>\n",
       "    <tr>\n",
       "      <th>11</th>\n",
       "      <td>../raw_data/Mov_Files/Test/Good</td>\n",
       "      <td>90.mov</td>\n",
       "      <td>1</td>\n",
       "    </tr>\n",
       "    <tr>\n",
       "      <th>6</th>\n",
       "      <td>../raw_data/Mov_Files/Test/Bad</td>\n",
       "      <td>91.mov</td>\n",
       "      <td>0</td>\n",
       "    </tr>\n",
       "    <tr>\n",
       "      <th>13</th>\n",
       "      <td>../raw_data/Mov_Files/Test/Good</td>\n",
       "      <td>89.mov</td>\n",
       "      <td>1</td>\n",
       "    </tr>\n",
       "    <tr>\n",
       "      <th>16</th>\n",
       "      <td>../raw_data/Mov_Files/Test/Good</td>\n",
       "      <td>84.mov</td>\n",
       "      <td>1</td>\n",
       "    </tr>\n",
       "  </tbody>\n",
       "</table>\n",
       "</div>"
      ],
      "text/plain": [
       "                          vid_paths vid_files  labels\n",
       "14  ../raw_data/Mov_Files/Test/Good    86.mov       1\n",
       "11  ../raw_data/Mov_Files/Test/Good    90.mov       1\n",
       "6    ../raw_data/Mov_Files/Test/Bad    91.mov       0\n",
       "13  ../raw_data/Mov_Files/Test/Good    89.mov       1\n",
       "16  ../raw_data/Mov_Files/Test/Good    84.mov       1"
      ]
     },
     "execution_count": 4,
     "metadata": {},
     "output_type": "execute_result"
    }
   ],
   "source": [
    "test_data_dict.sample(frac=1).head()"
   ]
  },
  {
   "cell_type": "code",
   "execution_count": 5,
   "metadata": {},
   "outputs": [
    {
     "name": "stdout",
     "output_type": "stream",
     "text": [
      "Converting ../raw_data/Mov_Files/Train/Bad/74.mov and Storing Frames in ../raw_data/Out_Frames/Train/Bad/74\n",
      "Converting ../raw_data/Mov_Files/Train/Bad/53.mov and Storing Frames in ../raw_data/Out_Frames/Train/Bad/53\n",
      "Converting ../raw_data/Mov_Files/Train/Bad/70.mov and Storing Frames in ../raw_data/Out_Frames/Train/Bad/70\n",
      "Converting ../raw_data/Mov_Files/Train/Bad/62.mov and Storing Frames in ../raw_data/Out_Frames/Train/Bad/62\n",
      "Converting ../raw_data/Mov_Files/Train/Bad/65.mov and Storing Frames in ../raw_data/Out_Frames/Train/Bad/65\n",
      "Converting ../raw_data/Mov_Files/Train/Bad/44.mov and Storing Frames in ../raw_data/Out_Frames/Train/Bad/44\n",
      "Converting ../raw_data/Mov_Files/Train/Bad/56.mov and Storing Frames in ../raw_data/Out_Frames/Train/Bad/56\n",
      "Converting ../raw_data/Mov_Files/Train/Bad/71.mov and Storing Frames in ../raw_data/Out_Frames/Train/Bad/71\n",
      "Converting ../raw_data/Mov_Files/Train/Bad/80.mov and Storing Frames in ../raw_data/Out_Frames/Train/Bad/80\n",
      "Converting ../raw_data/Mov_Files/Train/Bad/67.mov and Storing Frames in ../raw_data/Out_Frames/Train/Bad/67\n",
      "Converting ../raw_data/Mov_Files/Train/Bad/43.mov and Storing Frames in ../raw_data/Out_Frames/Train/Bad/43\n",
      "Converting ../raw_data/Mov_Files/Train/Bad/75.mov and Storing Frames in ../raw_data/Out_Frames/Train/Bad/75\n",
      "Converting ../raw_data/Mov_Files/Train/Bad/50.mov and Storing Frames in ../raw_data/Out_Frames/Train/Bad/50\n",
      "Converting ../raw_data/Mov_Files/Train/Bad/61.mov and Storing Frames in ../raw_data/Out_Frames/Train/Bad/61\n",
      "Converting ../raw_data/Mov_Files/Train/Bad/45.mov and Storing Frames in ../raw_data/Out_Frames/Train/Bad/45\n",
      "Converting ../raw_data/Mov_Files/Train/Bad/78.mov and Storing Frames in ../raw_data/Out_Frames/Train/Bad/78\n",
      "Converting ../raw_data/Mov_Files/Train/Bad/69.mov and Storing Frames in ../raw_data/Out_Frames/Train/Bad/69\n",
      "Converting ../raw_data/Mov_Files/Train/Bad/72.mov and Storing Frames in ../raw_data/Out_Frames/Train/Bad/72\n",
      "Converting ../raw_data/Mov_Files/Train/Bad/57.mov and Storing Frames in ../raw_data/Out_Frames/Train/Bad/57\n",
      "Converting ../raw_data/Mov_Files/Train/Bad/63.mov and Storing Frames in ../raw_data/Out_Frames/Train/Bad/63\n",
      "Converting ../raw_data/Mov_Files/Train/Bad/55.mov and Storing Frames in ../raw_data/Out_Frames/Train/Bad/55\n",
      "Converting ../raw_data/Mov_Files/Train/Bad/59.mov and Storing Frames in ../raw_data/Out_Frames/Train/Bad/59\n",
      "Converting ../raw_data/Mov_Files/Train/Bad/46.mov and Storing Frames in ../raw_data/Out_Frames/Train/Bad/46\n",
      "Converting ../raw_data/Mov_Files/Train/Bad/73.mov and Storing Frames in ../raw_data/Out_Frames/Train/Bad/73\n",
      "Converting ../raw_data/Mov_Files/Train/Bad/76.mov and Storing Frames in ../raw_data/Out_Frames/Train/Bad/76\n",
      "Converting ../raw_data/Mov_Files/Train/Bad/51.mov and Storing Frames in ../raw_data/Out_Frames/Train/Bad/51\n",
      "Converting ../raw_data/Mov_Files/Train/Bad/42.mov and Storing Frames in ../raw_data/Out_Frames/Train/Bad/42\n",
      "Converting ../raw_data/Mov_Files/Train/Bad/58.mov and Storing Frames in ../raw_data/Out_Frames/Train/Bad/58\n",
      "Converting ../raw_data/Mov_Files/Train/Bad/48.mov and Storing Frames in ../raw_data/Out_Frames/Train/Bad/48\n",
      "Converting ../raw_data/Mov_Files/Train/Bad/66.mov and Storing Frames in ../raw_data/Out_Frames/Train/Bad/66\n",
      "Converting ../raw_data/Mov_Files/Train/Bad/41.mov and Storing Frames in ../raw_data/Out_Frames/Train/Bad/41\n",
      "Converting ../raw_data/Mov_Files/Train/Bad/47.mov and Storing Frames in ../raw_data/Out_Frames/Train/Bad/47\n",
      "Converting ../raw_data/Mov_Files/Train/Bad/64.mov and Storing Frames in ../raw_data/Out_Frames/Train/Bad/64\n",
      "Converting ../raw_data/Mov_Files/Train/Bad/49.mov and Storing Frames in ../raw_data/Out_Frames/Train/Bad/49\n",
      "Converting ../raw_data/Mov_Files/Train/Bad/60.mov and Storing Frames in ../raw_data/Out_Frames/Train/Bad/60\n",
      "Converting ../raw_data/Mov_Files/Train/Bad/77.mov and Storing Frames in ../raw_data/Out_Frames/Train/Bad/77\n",
      "Converting ../raw_data/Mov_Files/Train/Bad/68.mov and Storing Frames in ../raw_data/Out_Frames/Train/Bad/68\n",
      "Converting ../raw_data/Mov_Files/Train/Bad/52.mov and Storing Frames in ../raw_data/Out_Frames/Train/Bad/52\n",
      "Converting ../raw_data/Mov_Files/Train/Bad/54.mov and Storing Frames in ../raw_data/Out_Frames/Train/Bad/54\n",
      "Converting ../raw_data/Mov_Files/Train/Bad/79.mov and Storing Frames in ../raw_data/Out_Frames/Train/Bad/79\n",
      "Converting ../raw_data/Mov_Files/Train/Good/2.mov and Storing Frames in ../raw_data/Out_Frames/Train/Good/2\n",
      "Converting ../raw_data/Mov_Files/Train/Good/38.mov and Storing Frames in ../raw_data/Out_Frames/Train/Good/38\n",
      "Converting ../raw_data/Mov_Files/Train/Good/13.mov and Storing Frames in ../raw_data/Out_Frames/Train/Good/13\n",
      "Converting ../raw_data/Mov_Files/Train/Good/11.mov and Storing Frames in ../raw_data/Out_Frames/Train/Good/11\n",
      "Converting ../raw_data/Mov_Files/Train/Good/14.mov and Storing Frames in ../raw_data/Out_Frames/Train/Good/14\n",
      "Converting ../raw_data/Mov_Files/Train/Good/32.mov and Storing Frames in ../raw_data/Out_Frames/Train/Good/32\n",
      "Converting ../raw_data/Mov_Files/Train/Good/25.mov and Storing Frames in ../raw_data/Out_Frames/Train/Good/25\n",
      "Converting ../raw_data/Mov_Files/Train/Good/6.mov and Storing Frames in ../raw_data/Out_Frames/Train/Good/6\n",
      "Converting ../raw_data/Mov_Files/Train/Good/24.mov and Storing Frames in ../raw_data/Out_Frames/Train/Good/24\n",
      "Converting ../raw_data/Mov_Files/Train/Good/27.mov and Storing Frames in ../raw_data/Out_Frames/Train/Good/27\n",
      "Converting ../raw_data/Mov_Files/Train/Good/19.mov and Storing Frames in ../raw_data/Out_Frames/Train/Good/19\n",
      "Converting ../raw_data/Mov_Files/Train/Good/22.mov and Storing Frames in ../raw_data/Out_Frames/Train/Good/22\n",
      "Converting ../raw_data/Mov_Files/Train/Good/30.mov and Storing Frames in ../raw_data/Out_Frames/Train/Good/30\n",
      "Converting ../raw_data/Mov_Files/Train/Good/7.mov and Storing Frames in ../raw_data/Out_Frames/Train/Good/7\n",
      "Converting ../raw_data/Mov_Files/Train/Good/37.mov and Storing Frames in ../raw_data/Out_Frames/Train/Good/37\n",
      "Converting ../raw_data/Mov_Files/Train/Good/23.mov and Storing Frames in ../raw_data/Out_Frames/Train/Good/23\n",
      "Converting ../raw_data/Mov_Files/Train/Good/15.mov and Storing Frames in ../raw_data/Out_Frames/Train/Good/15\n",
      "Converting ../raw_data/Mov_Files/Train/Good/28.mov and Storing Frames in ../raw_data/Out_Frames/Train/Good/28\n",
      "Converting ../raw_data/Mov_Files/Train/Good/21.mov and Storing Frames in ../raw_data/Out_Frames/Train/Good/21\n",
      "Converting ../raw_data/Mov_Files/Train/Good/20.mov and Storing Frames in ../raw_data/Out_Frames/Train/Good/20\n",
      "Converting ../raw_data/Mov_Files/Train/Good/16.mov and Storing Frames in ../raw_data/Out_Frames/Train/Good/16\n",
      "Converting ../raw_data/Mov_Files/Train/Good/3.mov and Storing Frames in ../raw_data/Out_Frames/Train/Good/3\n",
      "Converting ../raw_data/Mov_Files/Train/Good/39.mov and Storing Frames in ../raw_data/Out_Frames/Train/Good/39\n",
      "Converting ../raw_data/Mov_Files/Train/Good/33.mov and Storing Frames in ../raw_data/Out_Frames/Train/Good/33\n",
      "Converting ../raw_data/Mov_Files/Train/Good/1.mov and Storing Frames in ../raw_data/Out_Frames/Train/Good/1\n",
      "Converting ../raw_data/Mov_Files/Train/Good/29.mov and Storing Frames in ../raw_data/Out_Frames/Train/Good/29\n",
      "Converting ../raw_data/Mov_Files/Train/Good/35.mov and Storing Frames in ../raw_data/Out_Frames/Train/Good/35\n",
      "Converting ../raw_data/Mov_Files/Train/Good/26.mov and Storing Frames in ../raw_data/Out_Frames/Train/Good/26\n",
      "Converting ../raw_data/Mov_Files/Train/Good/10.mov and Storing Frames in ../raw_data/Out_Frames/Train/Good/10\n",
      "Converting ../raw_data/Mov_Files/Train/Good/18.mov and Storing Frames in ../raw_data/Out_Frames/Train/Good/18\n",
      "Converting ../raw_data/Mov_Files/Train/Good/34.mov and Storing Frames in ../raw_data/Out_Frames/Train/Good/34\n",
      "Converting ../raw_data/Mov_Files/Train/Good/8.mov and Storing Frames in ../raw_data/Out_Frames/Train/Good/8\n",
      "Converting ../raw_data/Mov_Files/Train/Good/4.mov and Storing Frames in ../raw_data/Out_Frames/Train/Good/4\n",
      "Converting ../raw_data/Mov_Files/Train/Good/31.mov and Storing Frames in ../raw_data/Out_Frames/Train/Good/31\n",
      "Converting ../raw_data/Mov_Files/Train/Good/36.mov and Storing Frames in ../raw_data/Out_Frames/Train/Good/36\n",
      "Converting ../raw_data/Mov_Files/Train/Good/9.mov and Storing Frames in ../raw_data/Out_Frames/Train/Good/9\n",
      "Converting ../raw_data/Mov_Files/Train/Good/17.mov and Storing Frames in ../raw_data/Out_Frames/Train/Good/17\n",
      "Converting ../raw_data/Mov_Files/Train/Good/5.mov and Storing Frames in ../raw_data/Out_Frames/Train/Good/5\n",
      "Converting ../raw_data/Mov_Files/Train/Good/12.mov and Storing Frames in ../raw_data/Out_Frames/Train/Good/12\n",
      "Converting ../raw_data/Mov_Files/Train/Good/40.mov and Storing Frames in ../raw_data/Out_Frames/Train/Good/40\n",
      "Converting ../raw_data/Mov_Files/Test/Bad/96.mov and Storing Frames in ../raw_data/Out_Frames/Test/Bad/96\n",
      "Converting ../raw_data/Mov_Files/Test/Bad/100.mov and Storing Frames in ../raw_data/Out_Frames/Test/Bad/100\n",
      "Converting ../raw_data/Mov_Files/Test/Bad/94.mov and Storing Frames in ../raw_data/Out_Frames/Test/Bad/94\n",
      "Converting ../raw_data/Mov_Files/Test/Bad/99.mov and Storing Frames in ../raw_data/Out_Frames/Test/Bad/99\n",
      "Converting ../raw_data/Mov_Files/Test/Bad/95.mov and Storing Frames in ../raw_data/Out_Frames/Test/Bad/95\n",
      "Converting ../raw_data/Mov_Files/Test/Bad/92.mov and Storing Frames in ../raw_data/Out_Frames/Test/Bad/92\n",
      "Converting ../raw_data/Mov_Files/Test/Bad/91.mov and Storing Frames in ../raw_data/Out_Frames/Test/Bad/91\n",
      "Converting ../raw_data/Mov_Files/Test/Bad/98.mov and Storing Frames in ../raw_data/Out_Frames/Test/Bad/98\n",
      "Converting ../raw_data/Mov_Files/Test/Bad/93.mov and Storing Frames in ../raw_data/Out_Frames/Test/Bad/93\n",
      "Converting ../raw_data/Mov_Files/Test/Bad/97.mov and Storing Frames in ../raw_data/Out_Frames/Test/Bad/97\n",
      "Converting ../raw_data/Mov_Files/Test/Good/81.mov and Storing Frames in ../raw_data/Out_Frames/Test/Good/81\n",
      "Converting ../raw_data/Mov_Files/Test/Good/90.mov and Storing Frames in ../raw_data/Out_Frames/Test/Good/90\n",
      "Converting ../raw_data/Mov_Files/Test/Good/88.mov and Storing Frames in ../raw_data/Out_Frames/Test/Good/88\n",
      "Converting ../raw_data/Mov_Files/Test/Good/89.mov and Storing Frames in ../raw_data/Out_Frames/Test/Good/89\n",
      "Converting ../raw_data/Mov_Files/Test/Good/86.mov and Storing Frames in ../raw_data/Out_Frames/Test/Good/86\n",
      "Converting ../raw_data/Mov_Files/Test/Good/83.mov and Storing Frames in ../raw_data/Out_Frames/Test/Good/83\n",
      "Converting ../raw_data/Mov_Files/Test/Good/84.mov and Storing Frames in ../raw_data/Out_Frames/Test/Good/84\n",
      "Converting ../raw_data/Mov_Files/Test/Good/87.mov and Storing Frames in ../raw_data/Out_Frames/Test/Good/87\n",
      "Converting ../raw_data/Mov_Files/Test/Good/82.mov and Storing Frames in ../raw_data/Out_Frames/Test/Good/82\n",
      "Converting ../raw_data/Mov_Files/Test/Good/85.mov and Storing Frames in ../raw_data/Out_Frames/Test/Good/85\n"
     ]
    }
   ],
   "source": [
    "#### Function to convert Videos into Frames\n",
    "def videos_to_frame(dataframe, out_data_path, class_list, max_frames):\n",
    "    for index, row in dataframe.iterrows():\n",
    "        video_to_convert = os.path.join(row[\"vid_paths\"], row[\"vid_files\"])\n",
    "        out_frames_path = os.path.join(out_data_path, class_list[row[\"labels\"]], row[\"vid_files\"].split(\".\")[0])\n",
    "        try:\n",
    "            os.makedirs(out_frames_path, exist_ok=True)\n",
    "        except:\n",
    "            print(\"File Already Created\")\n",
    "        print(f\"Converting {video_to_convert} and Storing Frames in {out_frames_path}\")\n",
    "        cap=cv2.VideoCapture(video_to_convert)\n",
    "        \n",
    "        while(cap.isOpened()):\n",
    "            frameId = cap.get(1)\n",
    "            ret, frame = cap.read()\n",
    "            if (ret != True):\n",
    "                break\n",
    "            filename =f\"frame-{str(int(frameId)).zfill(7)}.jpg\"\n",
    "            cv2.imwrite(os.path.join(out_frames_path, filename), frame)\n",
    "        cap.release()\n",
    "        \n",
    "        \n",
    "\n",
    "videos_to_frame(dataframe=train_data_dict,\n",
    "                out_data_path=os.path.join(OUT_DATA_DIR, DATA_SUB_DIRs[0]),\n",
    "                class_list=CLS_LIST,\n",
    "                max_frames=100)\n",
    "\n",
    "videos_to_frame(dataframe=test_data_dict,\n",
    "                out_data_path=os.path.join(OUT_DATA_DIR, DATA_SUB_DIRs[1]),\n",
    "                class_list=CLS_LIST,\n",
    "                max_frames=100)"
   ]
  },
  {
   "cell_type": "code",
   "execution_count": null,
   "metadata": {},
   "outputs": [],
   "source": []
  },
  {
   "cell_type": "code",
   "execution_count": null,
   "metadata": {},
   "outputs": [],
   "source": []
  },
  {
   "cell_type": "code",
   "execution_count": null,
   "metadata": {},
   "outputs": [],
   "source": [
    "video_capturing_function(train_set,\"Train_Videos\")\n",
    "video_capturing_function(test_set,\"Test_Videos\")"
   ]
  },
  {
   "cell_type": "code",
   "execution_count": null,
   "metadata": {},
   "outputs": [],
   "source": [
    "def data_load_function_10frames(dataset,directory):\n",
    "    frames=[]\n",
    "    for i in np.arange(len(dataset)):\n",
    "        vid_name=dataset.video_name[i].split(\".\")[0]\n",
    "        vid_dir_path=os.path.join(directory,vid_name)\n",
    "        frames_to_select=[]\n",
    "        for l in np.arange(0,10):\n",
    "            frames_to_select.append('frame%d.jpg' % l)\n",
    "        vid_data=[]\n",
    "        for frame in frames_to_select:\n",
    "            image=Image.open(os.path.join(vid_dir_path,frame))\n",
    "            image=image.resize((250, 250), Image.ANTIALIAS)\n",
    "            datu=np.asarray(image)\n",
    "            normu_dat=datu/255\n",
    "            vid_data.append(normu_dat)\n",
    "        vid_data=np.array(vid_data)\n",
    "        frames.append(vid_data)\n",
    "    return np.array(frames)"
   ]
  },
  {
   "cell_type": "code",
   "execution_count": null,
   "metadata": {},
   "outputs": [],
   "source": [
    "train_vid_dat = pd.concat([train_set.iloc[:30,:],train_set.iloc[50:,:]])"
   ]
  },
  {
   "cell_type": "code",
   "execution_count": null,
   "metadata": {},
   "outputs": [],
   "source": [
    "validation_vid_dat = train_set.iloc[30:50,:]"
   ]
  },
  {
   "cell_type": "code",
   "execution_count": null,
   "metadata": {},
   "outputs": [],
   "source": [
    "validation_vid_dat = validation_vid_dat.reset_index()"
   ]
  },
  {
   "cell_type": "code",
   "execution_count": null,
   "metadata": {},
   "outputs": [],
   "source": [
    "train_vid_dat = train_vid_dat.reset_index()"
   ]
  },
  {
   "cell_type": "code",
   "execution_count": null,
   "metadata": {},
   "outputs": [],
   "source": [
    "validation_vid_dat = validation_vid_dat[['video_name','label']]"
   ]
  },
  {
   "cell_type": "code",
   "execution_count": null,
   "metadata": {},
   "outputs": [],
   "source": [
    "train_vid_dat = train_vid_dat[['video_name','label']]"
   ]
  },
  {
   "cell_type": "code",
   "execution_count": null,
   "metadata": {},
   "outputs": [],
   "source": [
    "y = train_vid_dat['label']"
   ]
  },
  {
   "cell_type": "code",
   "execution_count": null,
   "metadata": {},
   "outputs": [],
   "source": [
    "test_dataset_new=data_load_function_10frames(test_set,'output/Test_Videos/')\n",
    "train_dataset_new=data_load_function_10frames(train_vid_dat,'output/Train_Videos/')\n",
    "validation_dataset_new=data_load_function_10frames(validation_vid_dat,'output/Val_Videos/')"
   ]
  },
  {
   "cell_type": "code",
   "execution_count": null,
   "metadata": {},
   "outputs": [],
   "source": [
    "# Reshaping tensors to confirm with the model we are going to train:\n",
    "test_dataset_new=test_dataset_new.reshape((20,10,250,250,1))\n",
    "train_dataset_new=train_dataset_new.reshape((60,10,250,250,1))\n",
    "validation_dataset_new=validation_dataset_new.reshape((20,10,250,250,1))"
   ]
  },
  {
   "cell_type": "code",
   "execution_count": null,
   "metadata": {},
   "outputs": [],
   "source": [
    "!pip install keras"
   ]
  },
  {
   "cell_type": "code",
   "execution_count": null,
   "metadata": {},
   "outputs": [],
   "source": [
    "from keras.layers import TimeDistributed, Conv2D, Dense, MaxPooling2D, Flatten, LSTM, Dropout, BatchNormalization\n",
    "from keras import models\n",
    "model_cnlst = models.Sequential()\n",
    "model_cnlst.add(TimeDistributed(Conv2D(128, (3, 3), strides=(1,1),activation='relu'),input_shape=(10, 250, 250, 1)))\n",
    "model_cnlst.add(TimeDistributed(Conv2D(64, (3, 3), strides=(1,1),activation='relu')))\n",
    "model_cnlst.add(TimeDistributed(MaxPooling2D(2,2)))\n",
    "model_cnlst.add(TimeDistributed(Conv2D(64, (3, 3), strides=(1,1),activation='relu')))\n",
    "model_cnlst.add(TimeDistributed(Conv2D(32, (3, 3), strides=(1,1),activation='relu')))\n",
    "model_cnlst.add(TimeDistributed(MaxPooling2D(2,2)))\n",
    "model_cnlst.add(TimeDistributed(BatchNormalization()))\n",
    "\n",
    "\n",
    "model_cnlst.add(TimeDistributed(Flatten()))\n",
    "model_cnlst.add(Dropout(0.2))\n",
    "\n",
    "model_cnlst.add(LSTM(32,return_sequences=False,dropout=0.2)) # used 32 units\n",
    "\n",
    "model_cnlst.add(Dense(64,activation='relu'))\n",
    "model_cnlst.add(Dense(32,activation='relu'))\n",
    "model_cnlst.add(Dropout(0.2))\n",
    "model_cnlst.add(Dense(1, activation='sigmoid'))\n",
    "model_cnlst.summary()"
   ]
  },
  {
   "cell_type": "code",
   "execution_count": null,
   "metadata": {},
   "outputs": [],
   "source": [
    "import keras"
   ]
  },
  {
   "cell_type": "code",
   "execution_count": null,
   "metadata": {},
   "outputs": [],
   "source": [
    "train_labels = pd.concat([train_set.iloc[:30,:][['label']],train_set.iloc[50:,:][['label']]])"
   ]
  },
  {
   "cell_type": "code",
   "execution_count": null,
   "metadata": {},
   "outputs": [],
   "source": [
    "validation_labels = train_set.iloc[30:50,:]['label']"
   ]
  },
  {
   "cell_type": "code",
   "execution_count": null,
   "metadata": {},
   "outputs": [],
   "source": [
    "from keras import optimizers\n",
    "callbacks_list_cnlst=[keras.callbacks.EarlyStopping(\n",
    "monitor='acc',patience=3),\n",
    "               keras.callbacks.ModelCheckpoint(\n",
    "               filepath='cnn_lstm_model_new3.h5',\n",
    "               monitor='val_loss',\n",
    "               save_best_only=True),\n",
    "                keras.callbacks.ReduceLROnPlateau(monitor = \"val_loss\", factor = 0.1, patience = 3)\n",
    "               ]\n",
    "\n",
    "\n",
    "optimizer_new=optimizers.RMSprop(lr=0.01)\n",
    "model_cnlst.compile(optimizer=optimizer_new,loss='binary_crossentropy',metrics=['acc'])\n",
    "# Training:\n",
    "history_new_cnlst=model_cnlst.fit(train_dataset_new,train_labels,batch_size=10,epochs=20,\n",
    "                        validation_data=(validation_dataset_new,validation_labels),\n",
    "                       callbacks=callbacks_list_cnlst)"
   ]
  },
  {
   "cell_type": "code",
   "execution_count": null,
   "metadata": {},
   "outputs": [],
   "source": [
    "np.mean(history_new_cnlst.history['acc'])"
   ]
  },
  {
   "cell_type": "code",
   "execution_count": null,
   "metadata": {},
   "outputs": [],
   "source": []
  }
 ],
 "metadata": {
  "kernelspec": {
   "display_name": "Python 3",
   "language": "python",
   "name": "python3"
  },
  "language_info": {
   "codemirror_mode": {
    "name": "ipython",
    "version": 3
   },
   "file_extension": ".py",
   "mimetype": "text/x-python",
   "name": "python",
   "nbconvert_exporter": "python",
   "pygments_lexer": "ipython3",
   "version": "3.6.11"
  }
 },
 "nbformat": 4,
 "nbformat_minor": 5
}
